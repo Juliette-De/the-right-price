{
 "cells": [
  {
   "cell_type": "code",
   "execution_count": 2,
   "id": "03b95683-9827-4fad-a186-066f546c9367",
   "metadata": {
    "collapsed": true,
    "jupyter": {
     "outputs_hidden": true
    },
    "tags": []
   },
   "outputs": [
    {
     "name": "stdout",
     "output_type": "stream",
     "text": [
      "Collecting geopandas\n",
      "  Downloading geopandas-0.12.2-py3-none-any.whl (1.1 MB)\n",
      "\u001b[K     |████████████████████████████████| 1.1 MB 8.3 MB/s eta 0:00:01\n",
      "\u001b[?25hRequirement already satisfied: packaging in /Users/augustin/opt/anaconda3/lib/python3.8/site-packages (from geopandas) (21.3)\n",
      "Collecting shapely>=1.7\n",
      "  Downloading shapely-2.0.1-cp38-cp38-macosx_10_9_x86_64.whl (1.4 MB)\n",
      "\u001b[K     |████████████████████████████████| 1.4 MB 17.8 MB/s eta 0:00:01\n",
      "\u001b[?25hRequirement already satisfied: pandas>=1.0.0 in /Users/augustin/opt/anaconda3/lib/python3.8/site-packages (from geopandas) (1.3.4)\n",
      "Collecting pyproj>=2.6.1.post1\n",
      "  Downloading pyproj-3.4.1-cp38-cp38-macosx_10_9_x86_64.whl (8.4 MB)\n",
      "\u001b[K     |████████████████████████████████| 8.4 MB 12.0 MB/s eta 0:00:01\n",
      "\u001b[?25hCollecting fiona>=1.8\n",
      "  Downloading Fiona-1.8.22-cp38-cp38-macosx_10_10_x86_64.whl (26.5 MB)\n",
      "\u001b[K     |████████████████████████████████| 26.5 MB 19.8 MB/s eta 0:00:01\n",
      "\u001b[?25hRequirement already satisfied: click-plugins>=1.0 in /Users/augustin/opt/anaconda3/lib/python3.8/site-packages (from fiona>=1.8->geopandas) (1.1.1)\n",
      "Requirement already satisfied: six>=1.7 in /Users/augustin/opt/anaconda3/lib/python3.8/site-packages (from fiona>=1.8->geopandas) (1.15.0)\n",
      "Requirement already satisfied: certifi in /Users/augustin/opt/anaconda3/lib/python3.8/site-packages (from fiona>=1.8->geopandas) (2021.10.8)\n",
      "Requirement already satisfied: setuptools in /Users/augustin/opt/anaconda3/lib/python3.8/site-packages (from fiona>=1.8->geopandas) (59.5.0)\n",
      "Collecting munch\n",
      "  Using cached munch-2.5.0-py2.py3-none-any.whl (10 kB)\n",
      "Requirement already satisfied: click>=4.0 in /Users/augustin/opt/anaconda3/lib/python3.8/site-packages (from fiona>=1.8->geopandas) (7.1.2)\n",
      "Requirement already satisfied: attrs>=17 in /Users/augustin/opt/anaconda3/lib/python3.8/site-packages (from fiona>=1.8->geopandas) (20.3.0)\n",
      "Collecting cligj>=0.5\n",
      "  Using cached cligj-0.7.2-py3-none-any.whl (7.1 kB)\n",
      "Requirement already satisfied: pytz>=2017.3 in /Users/augustin/opt/anaconda3/lib/python3.8/site-packages (from pandas>=1.0.0->geopandas) (2019.3)\n",
      "Requirement already satisfied: numpy>=1.17.3 in /Users/augustin/opt/anaconda3/lib/python3.8/site-packages (from pandas>=1.0.0->geopandas) (1.22.4)\n",
      "Requirement already satisfied: python-dateutil>=2.7.3 in /Users/augustin/opt/anaconda3/lib/python3.8/site-packages (from pandas>=1.0.0->geopandas) (2.8.1)\n",
      "Requirement already satisfied: pyparsing!=3.0.5,>=2.0.2 in /Users/augustin/opt/anaconda3/lib/python3.8/site-packages (from packaging->geopandas) (2.4.7)\n",
      "Installing collected packages: munch, cligj, shapely, pyproj, fiona, geopandas\n",
      "Successfully installed cligj-0.7.2 fiona-1.8.22 geopandas-0.12.2 munch-2.5.0 pyproj-3.4.1 shapely-2.0.1\n",
      "Note: you may need to restart the kernel to use updated packages.\n"
     ]
    }
   ],
   "source": [
    "pip install geopandas, folium, streamlit_folium, sweetviz"
   ]
  },
  {
   "cell_type": "code",
   "execution_count": 1,
   "id": "6c8bf195-c8bc-4eb4-8998-2c7789f15fa9",
   "metadata": {},
   "outputs": [],
   "source": [
    "# useful packages\n",
    "import pandas as pd\n",
    "import geopandas as gpd\n",
    "import numpy as np\n",
    "import os\n",
    "\n",
    "# EDA\n",
    "import sweetviz as sv\n",
    "\n",
    "import folium\n",
    "import re"
   ]
  },
  {
   "cell_type": "code",
   "execution_count": 2,
   "id": "5870710a-e57b-439e-b3b1-a194eb25e576",
   "metadata": {},
   "outputs": [],
   "source": [
    "lexique_variables = pd.read_csv('data_right_price/lexique_variables.csv', sep=';', index_col=\"Position\", )"
   ]
  },
  {
   "cell_type": "code",
   "execution_count": 3,
   "id": "5c1f8014-9994-437d-9f4f-4fbe2e1d4f6d",
   "metadata": {},
   "outputs": [
    {
     "data": {
      "text/html": [
       "<div>\n",
       "<style scoped>\n",
       "    .dataframe tbody tr th:only-of-type {\n",
       "        vertical-align: middle;\n",
       "    }\n",
       "\n",
       "    .dataframe tbody tr th {\n",
       "        vertical-align: top;\n",
       "    }\n",
       "\n",
       "    .dataframe thead th {\n",
       "        text-align: right;\n",
       "    }\n",
       "</style>\n",
       "<table border=\"1\" class=\"dataframe\">\n",
       "  <thead>\n",
       "    <tr style=\"text-align: right;\">\n",
       "      <th></th>\n",
       "      <th>Table</th>\n",
       "      <th>Nom</th>\n",
       "      <th>Description</th>\n",
       "    </tr>\n",
       "    <tr>\n",
       "      <th>Position</th>\n",
       "      <th></th>\n",
       "      <th></th>\n",
       "      <th></th>\n",
       "    </tr>\n",
       "  </thead>\n",
       "  <tbody>\n",
       "    <tr>\n",
       "      <th>1</th>\n",
       "      <td>mutation</td>\n",
       "      <td>idmutation</td>\n",
       "      <td>identifiant de clef primaire de la table mutation</td>\n",
       "    </tr>\n",
       "    <tr>\n",
       "      <th>2</th>\n",
       "      <td>mutation</td>\n",
       "      <td>idmutinvar</td>\n",
       "      <td>identifiant invariant de la mutation</td>\n",
       "    </tr>\n",
       "    <tr>\n",
       "      <th>3</th>\n",
       "      <td>mutation</td>\n",
       "      <td>idopendata</td>\n",
       "      <td>identifiant de mutation</td>\n",
       "    </tr>\n",
       "    <tr>\n",
       "      <th>4</th>\n",
       "      <td>mutation</td>\n",
       "      <td>idnatmut</td>\n",
       "      <td>identifiant de clef primaire de la table ann_n...</td>\n",
       "    </tr>\n",
       "    <tr>\n",
       "      <th>5</th>\n",
       "      <td>mutation</td>\n",
       "      <td>codservch</td>\n",
       "      <td>code du service de conservation des hypothèques</td>\n",
       "    </tr>\n",
       "    <tr>\n",
       "      <th>...</th>\n",
       "      <td>...</td>\n",
       "      <td>...</td>\n",
       "      <td>...</td>\n",
       "    </tr>\n",
       "    <tr>\n",
       "      <th>57</th>\n",
       "      <td>mutation</td>\n",
       "      <td>smai3pp</td>\n",
       "      <td>surface de l'ensemble des maisons avec 3 pièce...</td>\n",
       "    </tr>\n",
       "    <tr>\n",
       "      <th>58</th>\n",
       "      <td>mutation</td>\n",
       "      <td>smai4pp</td>\n",
       "      <td>surface de l'ensemble des maisons avec 4 pièce...</td>\n",
       "    </tr>\n",
       "    <tr>\n",
       "      <th>59</th>\n",
       "      <td>mutation</td>\n",
       "      <td>smai5pp</td>\n",
       "      <td>surface de l'ensemble des maisons avec au moin...</td>\n",
       "    </tr>\n",
       "    <tr>\n",
       "      <th>60</th>\n",
       "      <td>mutation</td>\n",
       "      <td>latitude</td>\n",
       "      <td>latitude de la mutation</td>\n",
       "    </tr>\n",
       "    <tr>\n",
       "      <th>61</th>\n",
       "      <td>mutation</td>\n",
       "      <td>longitude</td>\n",
       "      <td>longitude de la mutation</td>\n",
       "    </tr>\n",
       "  </tbody>\n",
       "</table>\n",
       "<p>61 rows × 3 columns</p>\n",
       "</div>"
      ],
      "text/plain": [
       "             Table         Nom  \\\n",
       "Position                         \n",
       "1         mutation  idmutation   \n",
       "2         mutation  idmutinvar   \n",
       "3         mutation  idopendata   \n",
       "4         mutation    idnatmut   \n",
       "5         mutation   codservch   \n",
       "...            ...         ...   \n",
       "57        mutation     smai3pp   \n",
       "58        mutation     smai4pp   \n",
       "59        mutation     smai5pp   \n",
       "60        mutation    latitude   \n",
       "61        mutation   longitude   \n",
       "\n",
       "                                                Description  \n",
       "Position                                                     \n",
       "1         identifiant de clef primaire de la table mutation  \n",
       "2                      identifiant invariant de la mutation  \n",
       "3                                   identifiant de mutation  \n",
       "4         identifiant de clef primaire de la table ann_n...  \n",
       "5           code du service de conservation des hypothèques  \n",
       "...                                                     ...  \n",
       "57        surface de l'ensemble des maisons avec 3 pièce...  \n",
       "58        surface de l'ensemble des maisons avec 4 pièce...  \n",
       "59        surface de l'ensemble des maisons avec au moin...  \n",
       "60                                  latitude de la mutation  \n",
       "61                                 longitude de la mutation  \n",
       "\n",
       "[61 rows x 3 columns]"
      ]
     },
     "execution_count": 3,
     "metadata": {},
     "output_type": "execute_result"
    }
   ],
   "source": [
    "lexique_variables"
   ]
  },
  {
   "cell_type": "markdown",
   "id": "5314d58d-9d08-43ab-877d-4cdf870d7de7",
   "metadata": {},
   "source": [
    "# Raw"
   ]
  },
  {
   "cell_type": "raw",
   "id": "87ea05a4-4dd2-4b5e-b70d-06d3d29c4fc2",
   "metadata": {},
   "source": [
    "tables_dict = {} \n",
    "for i in ['75', '77', '78', '91', '92', '93', '94', '95']:\n",
    "    tables_dict[f'd_{i}'] = pd.read_csv(f'data_right_price/Data localisée/mutations_d{i}_train_localized.csv')"
   ]
  },
  {
   "cell_type": "raw",
   "id": "33d7714c-c3e0-4ad0-8d80-025cf918fa07",
   "metadata": {},
   "source": [
    "tables_dict[f'd_75']['Dept'] = 75\n",
    "tables_dict[f'd_77']['Dept'] = 77\n",
    "tables_dict[f'd_78']['Dept'] = 78\n",
    "tables_dict[f'd_91']['Dept'] = 91\n",
    "tables_dict[f'd_92']['Dept'] = 92\n",
    "tables_dict[f'd_93']['Dept'] = 93\n",
    "tables_dict[f'd_94']['Dept'] = 94\n",
    "tables_dict[f'd_95']['Dept'] = 95"
   ]
  },
  {
   "cell_type": "raw",
   "id": "d1db93e7-72f3-47cd-b0a2-baf9a51215e4",
   "metadata": {},
   "source": [
    "IDF = pd.concat([tables_dict['d_75'], tables_dict['d_77'], tables_dict['d_78'], tables_dict['d_91'], tables_dict['d_92'], tables_dict['d_93'], tables_dict['d_94'], tables_dict['d_95']])\n",
    "IDF.drop(['Unnamed: 0', 'Unnamed: 0.1'], axis=1, inplace=True)"
   ]
  },
  {
   "cell_type": "raw",
   "id": "02ae650b-6b35-4108-921b-98afa8307214",
   "metadata": {},
   "source": [
    "IDF.tail()"
   ]
  },
  {
   "cell_type": "raw",
   "id": "95d19afc-5ee2-4cd5-a3ab-a2282fe99e99",
   "metadata": {},
   "source": [
    "# IDF.to_csv('data_right_price/Data localisée/mutations_IDF_train_localized.csv')"
   ]
  },
  {
   "cell_type": "raw",
   "id": "5290021e-6bc5-4b5a-93c7-0924bfe79bba",
   "metadata": {},
   "source": [
    "my_report = sv.analyze(IDF)\n",
    "my_report.show_html()"
   ]
  },
  {
   "cell_type": "raw",
   "id": "e8af3b43-d794-4e1d-a0fd-61e982cc4b46",
   "metadata": {},
   "source": [
    "IDF.dropna(axis=1, how=\"all\", inplace=True)"
   ]
  },
  {
   "cell_type": "raw",
   "id": "7d9c1f1b-9201-4a2f-9011-d2aabe35028b",
   "metadata": {
    "jupyter": {
     "outputs_hidden": true
    },
    "tags": []
   },
   "source": [
    "IDF.datemut = pd.to_datetime(IDF.datemut)\n",
    "IDF['day'] = IDF.datemut.dt.day\n",
    "IDF['weekday'] = IDF.datemut.dt.weekday\n",
    "IDF['month'] = IDF.datemut.dt.month\n",
    "IDF['year'] = IDF.datemut.dt.year\n",
    "IDF.drop(['datemut', 'anneemut', 'moismut', 'coddep', 'vefa'], axis=1, inplace=True)"
   ]
  },
  {
   "cell_type": "markdown",
   "id": "2ea21cbc-ce7f-4499-9a4d-73ef5c07e5b0",
   "metadata": {},
   "source": [
    "# Work in progress"
   ]
  },
  {
   "cell_type": "code",
   "execution_count": 12,
   "id": "468857cf-11b4-45b3-9cda-455cd218f26a",
   "metadata": {},
   "outputs": [],
   "source": [
    "IDF_sample = pd.read_csv('data_right_price/Data localisée/sample_mutations_IDF_train_localized.csv').drop([\"Unnamed: 0\", \"index\"], axis=1)"
   ]
  },
  {
   "cell_type": "code",
   "execution_count": 13,
   "id": "e04cbe84-3603-464a-8cc7-feaa4d5b5fd2",
   "metadata": {
    "tags": []
   },
   "outputs": [
    {
     "data": {
      "text/html": [
       "<div>\n",
       "<style scoped>\n",
       "    .dataframe tbody tr th:only-of-type {\n",
       "        vertical-align: middle;\n",
       "    }\n",
       "\n",
       "    .dataframe tbody tr th {\n",
       "        vertical-align: top;\n",
       "    }\n",
       "\n",
       "    .dataframe thead th {\n",
       "        text-align: right;\n",
       "    }\n",
       "</style>\n",
       "<table border=\"1\" class=\"dataframe\">\n",
       "  <thead>\n",
       "    <tr style=\"text-align: right;\">\n",
       "      <th></th>\n",
       "      <th>idmutation</th>\n",
       "      <th>idmutinvar</th>\n",
       "      <th>idopendata</th>\n",
       "      <th>idnatmut</th>\n",
       "      <th>libnatmut</th>\n",
       "      <th>vefa</th>\n",
       "      <th>valeurfonc</th>\n",
       "      <th>nbdispo</th>\n",
       "      <th>nblot</th>\n",
       "      <th>nbcomm</th>\n",
       "      <th>...</th>\n",
       "      <th>codtypbien</th>\n",
       "      <th>libtypbien</th>\n",
       "      <th>latitude</th>\n",
       "      <th>longitude</th>\n",
       "      <th>Dept</th>\n",
       "      <th>day</th>\n",
       "      <th>weekday</th>\n",
       "      <th>month</th>\n",
       "      <th>year</th>\n",
       "      <th>geometry</th>\n",
       "    </tr>\n",
       "  </thead>\n",
       "  <tbody>\n",
       "    <tr>\n",
       "      <th>4</th>\n",
       "      <td>7129645.0</td>\n",
       "      <td>a0bdcdfac9b1451e3ff61098159014cf</td>\n",
       "      <td>a0bdcdfac9b1451e3ff61098159014cf</td>\n",
       "      <td>1.0</td>\n",
       "      <td>Vente</td>\n",
       "      <td>False</td>\n",
       "      <td>23000.0</td>\n",
       "      <td>1.0</td>\n",
       "      <td>1.0</td>\n",
       "      <td>1.0</td>\n",
       "      <td>...</td>\n",
       "      <td>131.0</td>\n",
       "      <td>UNE DEPENDANCE</td>\n",
       "      <td>48.898697</td>\n",
       "      <td>2.087891</td>\n",
       "      <td>78</td>\n",
       "      <td>15</td>\n",
       "      <td>1</td>\n",
       "      <td>7</td>\n",
       "      <td>2014</td>\n",
       "      <td>POINT (2.087890999036768 48.8986972271354)</td>\n",
       "    </tr>\n",
       "    <tr>\n",
       "      <th>13</th>\n",
       "      <td>8874550.0</td>\n",
       "      <td>ac721a50c30458952c312ff208e913fc</td>\n",
       "      <td>ac721a50c30458952c312ff208e913fc</td>\n",
       "      <td>1.0</td>\n",
       "      <td>Vente</td>\n",
       "      <td>False</td>\n",
       "      <td>171500.0</td>\n",
       "      <td>1.0</td>\n",
       "      <td>0.0</td>\n",
       "      <td>1.0</td>\n",
       "      <td>...</td>\n",
       "      <td>112.0</td>\n",
       "      <td>DES MAISONS</td>\n",
       "      <td>49.021865</td>\n",
       "      <td>2.158523</td>\n",
       "      <td>95</td>\n",
       "      <td>19</td>\n",
       "      <td>4</td>\n",
       "      <td>9</td>\n",
       "      <td>2014</td>\n",
       "      <td>POINT (2.158523220027728 49.02186514888976)</td>\n",
       "    </tr>\n",
       "    <tr>\n",
       "      <th>16</th>\n",
       "      <td>8872793.0</td>\n",
       "      <td>957805e9c25d144205a9c83b77b4cf20</td>\n",
       "      <td>957805e9c25d144205a9c83b77b4cf20</td>\n",
       "      <td>1.0</td>\n",
       "      <td>Vente</td>\n",
       "      <td>False</td>\n",
       "      <td>545000.0</td>\n",
       "      <td>2.0</td>\n",
       "      <td>0.0</td>\n",
       "      <td>1.0</td>\n",
       "      <td>...</td>\n",
       "      <td>111.0</td>\n",
       "      <td>UNE MAISON</td>\n",
       "      <td>49.002133</td>\n",
       "      <td>2.151046</td>\n",
       "      <td>95</td>\n",
       "      <td>18</td>\n",
       "      <td>1</td>\n",
       "      <td>11</td>\n",
       "      <td>2014</td>\n",
       "      <td>POINT (2.151045926623695 49.00213341245541)</td>\n",
       "    </tr>\n",
       "    <tr>\n",
       "      <th>34</th>\n",
       "      <td>8483796.0</td>\n",
       "      <td>7f6323414bccaad15c764449af1638fc</td>\n",
       "      <td>7f6323414bccaad15c764449af1638fc</td>\n",
       "      <td>1.0</td>\n",
       "      <td>Vente</td>\n",
       "      <td>False</td>\n",
       "      <td>1746400.0</td>\n",
       "      <td>1.0</td>\n",
       "      <td>2.0</td>\n",
       "      <td>1.0</td>\n",
       "      <td>...</td>\n",
       "      <td>111.0</td>\n",
       "      <td>UNE MAISON</td>\n",
       "      <td>48.837971</td>\n",
       "      <td>2.247141</td>\n",
       "      <td>92</td>\n",
       "      <td>29</td>\n",
       "      <td>1</td>\n",
       "      <td>4</td>\n",
       "      <td>2014</td>\n",
       "      <td>POINT (2.2471407748732 48.83797117985503)</td>\n",
       "    </tr>\n",
       "    <tr>\n",
       "      <th>44</th>\n",
       "      <td>8854113.0</td>\n",
       "      <td>eeafd09b867fb05bc7fcf13a7252be87</td>\n",
       "      <td>eeafd09b867fb05bc7fcf13a7252be87</td>\n",
       "      <td>2.0</td>\n",
       "      <td>Vente en l'état futur d'achèvement</td>\n",
       "      <td>True</td>\n",
       "      <td>357441.0</td>\n",
       "      <td>1.0</td>\n",
       "      <td>3.0</td>\n",
       "      <td>1.0</td>\n",
       "      <td>...</td>\n",
       "      <td>121.0</td>\n",
       "      <td>UN APPARTEMENT</td>\n",
       "      <td>48.771812</td>\n",
       "      <td>2.522913</td>\n",
       "      <td>94</td>\n",
       "      <td>13</td>\n",
       "      <td>3</td>\n",
       "      <td>2</td>\n",
       "      <td>2014</td>\n",
       "      <td>POINT (2.5229125412407583 48.77181229839936)</td>\n",
       "    </tr>\n",
       "  </tbody>\n",
       "</table>\n",
       "<p>5 rows × 60 columns</p>\n",
       "</div>"
      ],
      "text/plain": [
       "    idmutation                        idmutinvar  \\\n",
       "4    7129645.0  a0bdcdfac9b1451e3ff61098159014cf   \n",
       "13   8874550.0  ac721a50c30458952c312ff208e913fc   \n",
       "16   8872793.0  957805e9c25d144205a9c83b77b4cf20   \n",
       "34   8483796.0  7f6323414bccaad15c764449af1638fc   \n",
       "44   8854113.0  eeafd09b867fb05bc7fcf13a7252be87   \n",
       "\n",
       "                          idopendata  idnatmut  \\\n",
       "4   a0bdcdfac9b1451e3ff61098159014cf       1.0   \n",
       "13  ac721a50c30458952c312ff208e913fc       1.0   \n",
       "16  957805e9c25d144205a9c83b77b4cf20       1.0   \n",
       "34  7f6323414bccaad15c764449af1638fc       1.0   \n",
       "44  eeafd09b867fb05bc7fcf13a7252be87       2.0   \n",
       "\n",
       "                             libnatmut   vefa  valeurfonc  nbdispo  nblot  \\\n",
       "4                                Vente  False     23000.0      1.0    1.0   \n",
       "13                               Vente  False    171500.0      1.0    0.0   \n",
       "16                               Vente  False    545000.0      2.0    0.0   \n",
       "34                               Vente  False   1746400.0      1.0    2.0   \n",
       "44  Vente en l'état futur d'achèvement   True    357441.0      1.0    3.0   \n",
       "\n",
       "    nbcomm  ... codtypbien      libtypbien   latitude  longitude Dept  day  \\\n",
       "4      1.0  ...      131.0  UNE DEPENDANCE  48.898697   2.087891   78   15   \n",
       "13     1.0  ...      112.0     DES MAISONS  49.021865   2.158523   95   19   \n",
       "16     1.0  ...      111.0      UNE MAISON  49.002133   2.151046   95   18   \n",
       "34     1.0  ...      111.0      UNE MAISON  48.837971   2.247141   92   29   \n",
       "44     1.0  ...      121.0  UN APPARTEMENT  48.771812   2.522913   94   13   \n",
       "\n",
       "   weekday  month  year                                      geometry  \n",
       "4        1      7  2014    POINT (2.087890999036768 48.8986972271354)  \n",
       "13       4      9  2014   POINT (2.158523220027728 49.02186514888976)  \n",
       "16       1     11  2014   POINT (2.151045926623695 49.00213341245541)  \n",
       "34       1      4  2014     POINT (2.2471407748732 48.83797117985503)  \n",
       "44       3      2  2014  POINT (2.5229125412407583 48.77181229839936)  \n",
       "\n",
       "[5 rows x 60 columns]"
      ]
     },
     "execution_count": 13,
     "metadata": {},
     "output_type": "execute_result"
    }
   ],
   "source": [
    "IDF_sample[IDF_sample['year'] == 2014].head()"
   ]
  },
  {
   "cell_type": "code",
   "execution_count": 14,
   "id": "ce0fedc3-f6bb-4f36-b4a2-d84c8ba17032",
   "metadata": {},
   "outputs": [
    {
     "data": {
      "text/plain": [
       "\"77240', '77432\""
      ]
     },
     "execution_count": 14,
     "metadata": {},
     "output_type": "execute_result"
    }
   ],
   "source": [
    "IDF_sample[IDF_sample['nbcomm'] > 1]['l_codinsee'].apply(lambda x: x.replace(\"['\", \"\").replace(\"']\", \"\")).values[0]"
   ]
  },
  {
   "cell_type": "code",
   "execution_count": 20,
   "id": "862e6781-aaea-42c5-a188-cd63586c3e37",
   "metadata": {},
   "outputs": [
    {
     "data": {
      "text/plain": [
       "11     False\n",
       "16     False\n",
       "105    False\n",
       "385    False\n",
       "395     True\n",
       "457     True\n",
       "483    False\n",
       "644    False\n",
       "844    False\n",
       "936    False\n",
       "Name: l_section, dtype: bool"
      ]
     },
     "execution_count": 20,
     "metadata": {},
     "output_type": "execute_result"
    }
   ],
   "source": [
    "code = '0A'\n",
    "IDF_sample[IDF_sample['nbsection'] > 1]['l_section'].apply(lambda x: str(code) in re.findall(r'[0-9A-Z]+', x))"
   ]
  },
  {
   "cell_type": "code",
   "execution_count": 29,
   "id": "5989ee03-f4c7-44ba-a0c1-3a065dd7417f",
   "metadata": {},
   "outputs": [
    {
     "data": {
      "text/plain": [
       "['0A', '0D']"
      ]
     },
     "execution_count": 29,
     "metadata": {},
     "output_type": "execute_result"
    }
   ],
   "source": [
    "re.findall(r'[0-9A-Z]+', \"['0A', '0D']\")"
   ]
  },
  {
   "cell_type": "code",
   "execution_count": 30,
   "id": "3d78ffd9-151d-4a68-ba2b-8d26c9002cf8",
   "metadata": {},
   "outputs": [
    {
     "data": {
      "text/html": [
       "<div>\n",
       "<style scoped>\n",
       "    .dataframe tbody tr th:only-of-type {\n",
       "        vertical-align: middle;\n",
       "    }\n",
       "\n",
       "    .dataframe tbody tr th {\n",
       "        vertical-align: top;\n",
       "    }\n",
       "\n",
       "    .dataframe thead th {\n",
       "        text-align: right;\n",
       "    }\n",
       "</style>\n",
       "<table border=\"1\" class=\"dataframe\">\n",
       "  <thead>\n",
       "    <tr style=\"text-align: right;\">\n",
       "      <th></th>\n",
       "      <th>idmutation</th>\n",
       "      <th>idmutinvar</th>\n",
       "      <th>idopendata</th>\n",
       "      <th>idnatmut</th>\n",
       "      <th>libnatmut</th>\n",
       "      <th>vefa</th>\n",
       "      <th>valeurfonc</th>\n",
       "      <th>nbdispo</th>\n",
       "      <th>nblot</th>\n",
       "      <th>nbcomm</th>\n",
       "      <th>...</th>\n",
       "      <th>codtypbien</th>\n",
       "      <th>libtypbien</th>\n",
       "      <th>latitude</th>\n",
       "      <th>longitude</th>\n",
       "      <th>Dept</th>\n",
       "      <th>day</th>\n",
       "      <th>weekday</th>\n",
       "      <th>month</th>\n",
       "      <th>year</th>\n",
       "      <th>geometry</th>\n",
       "    </tr>\n",
       "  </thead>\n",
       "  <tbody>\n",
       "    <tr>\n",
       "      <th>11</th>\n",
       "      <td>8259649.0</td>\n",
       "      <td>a1de03a329edde6bd6624f7531b64062</td>\n",
       "      <td>a1de03a329edde6bd6624f7531b64062</td>\n",
       "      <td>1.0</td>\n",
       "      <td>Vente</td>\n",
       "      <td>False</td>\n",
       "      <td>475000.0</td>\n",
       "      <td>1.0</td>\n",
       "      <td>0.0</td>\n",
       "      <td>1.0</td>\n",
       "      <td>...</td>\n",
       "      <td>111.0</td>\n",
       "      <td>UNE MAISON</td>\n",
       "      <td>48.735430</td>\n",
       "      <td>2.283783</td>\n",
       "      <td>92</td>\n",
       "      <td>14</td>\n",
       "      <td>1</td>\n",
       "      <td>11</td>\n",
       "      <td>2017</td>\n",
       "      <td>POINT (2.2837828 48.73542976666667)</td>\n",
       "    </tr>\n",
       "    <tr>\n",
       "      <th>16</th>\n",
       "      <td>8872793.0</td>\n",
       "      <td>957805e9c25d144205a9c83b77b4cf20</td>\n",
       "      <td>957805e9c25d144205a9c83b77b4cf20</td>\n",
       "      <td>1.0</td>\n",
       "      <td>Vente</td>\n",
       "      <td>False</td>\n",
       "      <td>545000.0</td>\n",
       "      <td>2.0</td>\n",
       "      <td>0.0</td>\n",
       "      <td>1.0</td>\n",
       "      <td>...</td>\n",
       "      <td>111.0</td>\n",
       "      <td>UNE MAISON</td>\n",
       "      <td>49.002133</td>\n",
       "      <td>2.151046</td>\n",
       "      <td>95</td>\n",
       "      <td>18</td>\n",
       "      <td>1</td>\n",
       "      <td>11</td>\n",
       "      <td>2014</td>\n",
       "      <td>POINT (2.151045926623695 49.00213341245541)</td>\n",
       "    </tr>\n",
       "    <tr>\n",
       "      <th>75</th>\n",
       "      <td>7145495.0</td>\n",
       "      <td>ba4e3541582ddd4594fcd204ccb340d6</td>\n",
       "      <td>ba4e3541582ddd4594fcd204ccb340d6</td>\n",
       "      <td>1.0</td>\n",
       "      <td>Vente</td>\n",
       "      <td>False</td>\n",
       "      <td>93100.0</td>\n",
       "      <td>1.0</td>\n",
       "      <td>1.0</td>\n",
       "      <td>1.0</td>\n",
       "      <td>...</td>\n",
       "      <td>121.0</td>\n",
       "      <td>UN APPARTEMENT</td>\n",
       "      <td>48.793714</td>\n",
       "      <td>1.975450</td>\n",
       "      <td>78</td>\n",
       "      <td>24</td>\n",
       "      <td>4</td>\n",
       "      <td>1</td>\n",
       "      <td>2014</td>\n",
       "      <td>POINT (1.9754502428721632 48.79371381800289)</td>\n",
       "    </tr>\n",
       "  </tbody>\n",
       "</table>\n",
       "<p>3 rows × 60 columns</p>\n",
       "</div>"
      ],
      "text/plain": [
       "    idmutation                        idmutinvar  \\\n",
       "11   8259649.0  a1de03a329edde6bd6624f7531b64062   \n",
       "16   8872793.0  957805e9c25d144205a9c83b77b4cf20   \n",
       "75   7145495.0  ba4e3541582ddd4594fcd204ccb340d6   \n",
       "\n",
       "                          idopendata  idnatmut libnatmut   vefa  valeurfonc  \\\n",
       "11  a1de03a329edde6bd6624f7531b64062       1.0     Vente  False    475000.0   \n",
       "16  957805e9c25d144205a9c83b77b4cf20       1.0     Vente  False    545000.0   \n",
       "75  ba4e3541582ddd4594fcd204ccb340d6       1.0     Vente  False     93100.0   \n",
       "\n",
       "    nbdispo  nblot  nbcomm  ... codtypbien      libtypbien   latitude  \\\n",
       "11      1.0    0.0     1.0  ...      111.0      UNE MAISON  48.735430   \n",
       "16      2.0    0.0     1.0  ...      111.0      UNE MAISON  49.002133   \n",
       "75      1.0    1.0     1.0  ...      121.0  UN APPARTEMENT  48.793714   \n",
       "\n",
       "    longitude Dept  day weekday  month  year  \\\n",
       "11   2.283783   92   14       1     11  2017   \n",
       "16   2.151046   95   18       1     11  2014   \n",
       "75   1.975450   78   24       4      1  2014   \n",
       "\n",
       "                                        geometry  \n",
       "11           POINT (2.2837828 48.73542976666667)  \n",
       "16   POINT (2.151045926623695 49.00213341245541)  \n",
       "75  POINT (1.9754502428721632 48.79371381800289)  \n",
       "\n",
       "[3 rows x 60 columns]"
      ]
     },
     "execution_count": 30,
     "metadata": {},
     "output_type": "execute_result"
    }
   ],
   "source": [
    "code = 'BK'\n",
    "IDF_sample[IDF_sample['l_section'].apply(lambda x: str(code) in re.findall(r'[0-9-A-Z]+', x))].head(3)"
   ]
  },
  {
   "cell_type": "code",
   "execution_count": 31,
   "id": "159e6c5e-75ca-498c-ac8d-060376bfc1d9",
   "metadata": {},
   "outputs": [
    {
     "data": {
      "text/plain": [
       "['77240', '77432']"
      ]
     },
     "execution_count": 31,
     "metadata": {},
     "output_type": "execute_result"
    }
   ],
   "source": [
    "re.findall(r'[0-9]+', IDF_sample[IDF_sample['nbcomm'] > 1]['l_codinsee'].apply(lambda x: x.replace(\"['\", \"\").replace(\"']\", \"\")).values[0])"
   ]
  },
  {
   "cell_type": "code",
   "execution_count": 335,
   "id": "bf744e7b-db92-4ea3-b556-318bf420096f",
   "metadata": {},
   "outputs": [],
   "source": [
    "# IDF_sample = IDF.sample(1000, random_state=123).reset_index()"
   ]
  },
  {
   "cell_type": "code",
   "execution_count": 527,
   "id": "673af6c6-37be-4425-b098-dd161743a22a",
   "metadata": {},
   "outputs": [],
   "source": [
    "# IDF_sample.to_csv('the-right-price/data_right_price/Data localisée/sample_mutations_IDF_train_localized.csv')"
   ]
  },
  {
   "cell_type": "code",
   "execution_count": 32,
   "id": "2d617b3f-2b5b-468c-9386-9202acb199fd",
   "metadata": {},
   "outputs": [],
   "source": [
    "geo_IDF_sample = gpd.GeoDataFrame(\n",
    "    IDF_sample, geometry=gpd.points_from_xy(IDF_sample.longitude, IDF_sample.latitude))"
   ]
  },
  {
   "cell_type": "code",
   "execution_count": 33,
   "id": "b2c318da-ba05-4c2b-9f0a-fe030447ba99",
   "metadata": {},
   "outputs": [
    {
     "data": {
      "text/plain": [
       "True"
      ]
     },
     "execution_count": 33,
     "metadata": {},
     "output_type": "execute_result"
    }
   ],
   "source": [
    "np.floor(78350/1000) == 78"
   ]
  },
  {
   "cell_type": "code",
   "execution_count": 47,
   "id": "54befdb5-8a3b-4d0a-9d2c-53fb78df900f",
   "metadata": {},
   "outputs": [
    {
     "data": {
      "text/html": [
       "<div>\n",
       "<style scoped>\n",
       "    .dataframe tbody tr th:only-of-type {\n",
       "        vertical-align: middle;\n",
       "    }\n",
       "\n",
       "    .dataframe tbody tr th {\n",
       "        vertical-align: top;\n",
       "    }\n",
       "\n",
       "    .dataframe thead th {\n",
       "        text-align: right;\n",
       "    }\n",
       "</style>\n",
       "<table border=\"1\" class=\"dataframe\">\n",
       "  <thead>\n",
       "    <tr style=\"text-align: right;\">\n",
       "      <th></th>\n",
       "      <th>sbati</th>\n",
       "      <th>sbatmai</th>\n",
       "      <th>sbatapt</th>\n",
       "      <th>sbatact</th>\n",
       "      <th>sapt1pp</th>\n",
       "      <th>sapt2pp</th>\n",
       "      <th>sapt3pp</th>\n",
       "      <th>sapt4pp</th>\n",
       "      <th>sapt5pp</th>\n",
       "      <th>smai1pp</th>\n",
       "      <th>smai2pp</th>\n",
       "      <th>smai3pp</th>\n",
       "      <th>smai4pp</th>\n",
       "      <th>smai5pp</th>\n",
       "    </tr>\n",
       "  </thead>\n",
       "  <tbody>\n",
       "    <tr>\n",
       "      <th>0</th>\n",
       "      <td>90.0</td>\n",
       "      <td>90.0</td>\n",
       "      <td>0.0</td>\n",
       "      <td>0.0</td>\n",
       "      <td>0.0</td>\n",
       "      <td>0.0</td>\n",
       "      <td>0.0</td>\n",
       "      <td>0.0</td>\n",
       "      <td>0.0</td>\n",
       "      <td>0.0</td>\n",
       "      <td>0.0</td>\n",
       "      <td>0.0</td>\n",
       "      <td>0.0</td>\n",
       "      <td>90.0</td>\n",
       "    </tr>\n",
       "    <tr>\n",
       "      <th>1</th>\n",
       "      <td>56.0</td>\n",
       "      <td>0.0</td>\n",
       "      <td>56.0</td>\n",
       "      <td>0.0</td>\n",
       "      <td>0.0</td>\n",
       "      <td>0.0</td>\n",
       "      <td>56.0</td>\n",
       "      <td>0.0</td>\n",
       "      <td>0.0</td>\n",
       "      <td>0.0</td>\n",
       "      <td>0.0</td>\n",
       "      <td>0.0</td>\n",
       "      <td>0.0</td>\n",
       "      <td>0.0</td>\n",
       "    </tr>\n",
       "    <tr>\n",
       "      <th>2</th>\n",
       "      <td>133.0</td>\n",
       "      <td>133.0</td>\n",
       "      <td>0.0</td>\n",
       "      <td>0.0</td>\n",
       "      <td>0.0</td>\n",
       "      <td>0.0</td>\n",
       "      <td>0.0</td>\n",
       "      <td>0.0</td>\n",
       "      <td>0.0</td>\n",
       "      <td>0.0</td>\n",
       "      <td>0.0</td>\n",
       "      <td>0.0</td>\n",
       "      <td>0.0</td>\n",
       "      <td>133.0</td>\n",
       "    </tr>\n",
       "    <tr>\n",
       "      <th>3</th>\n",
       "      <td>0.0</td>\n",
       "      <td>0.0</td>\n",
       "      <td>0.0</td>\n",
       "      <td>0.0</td>\n",
       "      <td>0.0</td>\n",
       "      <td>0.0</td>\n",
       "      <td>0.0</td>\n",
       "      <td>0.0</td>\n",
       "      <td>0.0</td>\n",
       "      <td>0.0</td>\n",
       "      <td>0.0</td>\n",
       "      <td>0.0</td>\n",
       "      <td>0.0</td>\n",
       "      <td>0.0</td>\n",
       "    </tr>\n",
       "    <tr>\n",
       "      <th>4</th>\n",
       "      <td>0.0</td>\n",
       "      <td>0.0</td>\n",
       "      <td>0.0</td>\n",
       "      <td>0.0</td>\n",
       "      <td>0.0</td>\n",
       "      <td>0.0</td>\n",
       "      <td>0.0</td>\n",
       "      <td>0.0</td>\n",
       "      <td>0.0</td>\n",
       "      <td>0.0</td>\n",
       "      <td>0.0</td>\n",
       "      <td>0.0</td>\n",
       "      <td>0.0</td>\n",
       "      <td>0.0</td>\n",
       "    </tr>\n",
       "    <tr>\n",
       "      <th>...</th>\n",
       "      <td>...</td>\n",
       "      <td>...</td>\n",
       "      <td>...</td>\n",
       "      <td>...</td>\n",
       "      <td>...</td>\n",
       "      <td>...</td>\n",
       "      <td>...</td>\n",
       "      <td>...</td>\n",
       "      <td>...</td>\n",
       "      <td>...</td>\n",
       "      <td>...</td>\n",
       "      <td>...</td>\n",
       "      <td>...</td>\n",
       "      <td>...</td>\n",
       "    </tr>\n",
       "    <tr>\n",
       "      <th>995</th>\n",
       "      <td>37.0</td>\n",
       "      <td>0.0</td>\n",
       "      <td>37.0</td>\n",
       "      <td>0.0</td>\n",
       "      <td>0.0</td>\n",
       "      <td>37.0</td>\n",
       "      <td>0.0</td>\n",
       "      <td>0.0</td>\n",
       "      <td>0.0</td>\n",
       "      <td>0.0</td>\n",
       "      <td>0.0</td>\n",
       "      <td>0.0</td>\n",
       "      <td>0.0</td>\n",
       "      <td>0.0</td>\n",
       "    </tr>\n",
       "    <tr>\n",
       "      <th>996</th>\n",
       "      <td>38.0</td>\n",
       "      <td>0.0</td>\n",
       "      <td>38.0</td>\n",
       "      <td>0.0</td>\n",
       "      <td>0.0</td>\n",
       "      <td>38.0</td>\n",
       "      <td>0.0</td>\n",
       "      <td>0.0</td>\n",
       "      <td>0.0</td>\n",
       "      <td>0.0</td>\n",
       "      <td>0.0</td>\n",
       "      <td>0.0</td>\n",
       "      <td>0.0</td>\n",
       "      <td>0.0</td>\n",
       "    </tr>\n",
       "    <tr>\n",
       "      <th>997</th>\n",
       "      <td>60.0</td>\n",
       "      <td>0.0</td>\n",
       "      <td>60.0</td>\n",
       "      <td>0.0</td>\n",
       "      <td>0.0</td>\n",
       "      <td>0.0</td>\n",
       "      <td>0.0</td>\n",
       "      <td>60.0</td>\n",
       "      <td>0.0</td>\n",
       "      <td>0.0</td>\n",
       "      <td>0.0</td>\n",
       "      <td>0.0</td>\n",
       "      <td>0.0</td>\n",
       "      <td>0.0</td>\n",
       "    </tr>\n",
       "    <tr>\n",
       "      <th>998</th>\n",
       "      <td>32.0</td>\n",
       "      <td>0.0</td>\n",
       "      <td>32.0</td>\n",
       "      <td>0.0</td>\n",
       "      <td>0.0</td>\n",
       "      <td>32.0</td>\n",
       "      <td>0.0</td>\n",
       "      <td>0.0</td>\n",
       "      <td>0.0</td>\n",
       "      <td>0.0</td>\n",
       "      <td>0.0</td>\n",
       "      <td>0.0</td>\n",
       "      <td>0.0</td>\n",
       "      <td>0.0</td>\n",
       "    </tr>\n",
       "    <tr>\n",
       "      <th>999</th>\n",
       "      <td>62.0</td>\n",
       "      <td>0.0</td>\n",
       "      <td>62.0</td>\n",
       "      <td>0.0</td>\n",
       "      <td>0.0</td>\n",
       "      <td>0.0</td>\n",
       "      <td>62.0</td>\n",
       "      <td>0.0</td>\n",
       "      <td>0.0</td>\n",
       "      <td>0.0</td>\n",
       "      <td>0.0</td>\n",
       "      <td>0.0</td>\n",
       "      <td>0.0</td>\n",
       "      <td>0.0</td>\n",
       "    </tr>\n",
       "  </tbody>\n",
       "</table>\n",
       "<p>1000 rows × 14 columns</p>\n",
       "</div>"
      ],
      "text/plain": [
       "     sbati  sbatmai  sbatapt  sbatact  sapt1pp  sapt2pp  sapt3pp  sapt4pp  \\\n",
       "0     90.0     90.0      0.0      0.0      0.0      0.0      0.0      0.0   \n",
       "1     56.0      0.0     56.0      0.0      0.0      0.0     56.0      0.0   \n",
       "2    133.0    133.0      0.0      0.0      0.0      0.0      0.0      0.0   \n",
       "3      0.0      0.0      0.0      0.0      0.0      0.0      0.0      0.0   \n",
       "4      0.0      0.0      0.0      0.0      0.0      0.0      0.0      0.0   \n",
       "..     ...      ...      ...      ...      ...      ...      ...      ...   \n",
       "995   37.0      0.0     37.0      0.0      0.0     37.0      0.0      0.0   \n",
       "996   38.0      0.0     38.0      0.0      0.0     38.0      0.0      0.0   \n",
       "997   60.0      0.0     60.0      0.0      0.0      0.0      0.0     60.0   \n",
       "998   32.0      0.0     32.0      0.0      0.0     32.0      0.0      0.0   \n",
       "999   62.0      0.0     62.0      0.0      0.0      0.0     62.0      0.0   \n",
       "\n",
       "     sapt5pp  smai1pp  smai2pp  smai3pp  smai4pp  smai5pp  \n",
       "0        0.0      0.0      0.0      0.0      0.0     90.0  \n",
       "1        0.0      0.0      0.0      0.0      0.0      0.0  \n",
       "2        0.0      0.0      0.0      0.0      0.0    133.0  \n",
       "3        0.0      0.0      0.0      0.0      0.0      0.0  \n",
       "4        0.0      0.0      0.0      0.0      0.0      0.0  \n",
       "..       ...      ...      ...      ...      ...      ...  \n",
       "995      0.0      0.0      0.0      0.0      0.0      0.0  \n",
       "996      0.0      0.0      0.0      0.0      0.0      0.0  \n",
       "997      0.0      0.0      0.0      0.0      0.0      0.0  \n",
       "998      0.0      0.0      0.0      0.0      0.0      0.0  \n",
       "999      0.0      0.0      0.0      0.0      0.0      0.0  \n",
       "\n",
       "[1000 rows x 14 columns]"
      ]
     },
     "execution_count": 47,
     "metadata": {},
     "output_type": "execute_result"
    }
   ],
   "source": [
    "IDF_sample[['sbati', 'sbatmai', 'sbatapt', 'sbatact', 'sapt1pp',\n",
    "       'sapt2pp', 'sapt3pp', 'sapt4pp', 'sapt5pp', 'smai1pp', 'smai2pp',\n",
    "       'smai3pp', 'smai4pp', 'smai5pp']]"
   ]
  },
  {
   "cell_type": "code",
   "execution_count": 93,
   "id": "93861bae-c1c5-4272-a532-effc4666428e",
   "metadata": {},
   "outputs": [
    {
     "data": {
      "text/plain": [
       "92445601.0"
      ]
     },
     "execution_count": 93,
     "metadata": {},
     "output_type": "execute_result"
    }
   ],
   "source": [
    "np.ceil(92445600.2)"
   ]
  },
  {
   "cell_type": "code",
   "execution_count": 92,
   "id": "3125e82e-6a1e-43d9-aedd-1ac189273611",
   "metadata": {},
   "outputs": [
    {
     "data": {
      "text/plain": [
       "92445600.0"
      ]
     },
     "execution_count": 92,
     "metadata": {},
     "output_type": "execute_result"
    }
   ],
   "source": [
    "IDF_sample['valeurfonc'].max()"
   ]
  },
  {
   "cell_type": "code",
   "execution_count": 118,
   "id": "20486320-6e7f-434d-8ea0-ffa6ddee2b19",
   "metadata": {},
   "outputs": [
    {
     "data": {
      "text/plain": [
       "100"
      ]
     },
     "execution_count": 118,
     "metadata": {},
     "output_type": "execute_result"
    }
   ],
   "source": [
    "10**(len(str(int(i)))-1)"
   ]
  },
  {
   "cell_type": "code",
   "execution_count": 133,
   "id": "69f0631a-1d14-4372-b679-d89dd0b490d1",
   "metadata": {},
   "outputs": [
    {
     "data": {
      "text/plain": [
       "1000.0"
      ]
     },
     "execution_count": 133,
     "metadata": {},
     "output_type": "execute_result"
    }
   ],
   "source": [
    "i = 1111\n",
    "\n",
    "a = 10**(len(str(int(i)))-1)\n",
    "a*np.floor(i/a) if i > 1 else 0.0"
   ]
  },
  {
   "cell_type": "code",
   "execution_count": 146,
   "id": "8e1425d1-c625-498a-af47-8696729d5665",
   "metadata": {},
   "outputs": [
    {
     "data": {
      "text/plain": [
       "0.0"
      ]
     },
     "execution_count": 146,
     "metadata": {},
     "output_type": "execute_result"
    }
   ],
   "source": [
    "i = IDF_sample['valeurfonc'].min()\n",
    "a = 10**(len(str(int(i)))-1)\n",
    "min_ = a*np.floor(i/a) if i > 1 else 0.0\n",
    "min_"
   ]
  },
  {
   "cell_type": "code",
   "execution_count": 161,
   "id": "b49f3110-b81c-499b-b42a-666904550f57",
   "metadata": {},
   "outputs": [
    {
     "data": {
      "text/plain": [
       "200000000.0"
      ]
     },
     "execution_count": 161,
     "metadata": {},
     "output_type": "execute_result"
    }
   ],
   "source": [
    "i = 100000220\n",
    "a = 10**(len(str(int(i)))-1)\n",
    "max_ = a*np.ceil(i/a)\n",
    "max_"
   ]
  },
  {
   "cell_type": "code",
   "execution_count": 162,
   "id": "1fe615b5-feaf-4a8f-9009-9090caa7dd8b",
   "metadata": {},
   "outputs": [
    {
     "data": {
      "text/plain": [
       "5000000.0"
      ]
     },
     "execution_count": 162,
     "metadata": {},
     "output_type": "execute_result"
    }
   ],
   "source": [
    "np.min(\n",
    "    [5000000.0, \n",
    "    max_])"
   ]
  },
  {
   "cell_type": "code",
   "execution_count": 144,
   "id": "93430344-7027-449d-b91a-d7911ece231f",
   "metadata": {},
   "outputs": [
    {
     "data": {
      "text/plain": [
       "92445600.0"
      ]
     },
     "execution_count": 144,
     "metadata": {},
     "output_type": "execute_result"
    }
   ],
   "source": [
    "IDF_sample['valeurfonc'].max()"
   ]
  },
  {
   "cell_type": "code",
   "execution_count": 170,
   "id": "6b3d6d8f-d167-4040-b9e9-5ae3ec6508df",
   "metadata": {},
   "outputs": [
    {
     "data": {
      "text/plain": [
       "0.0"
      ]
     },
     "execution_count": 170,
     "metadata": {},
     "output_type": "execute_result"
    }
   ],
   "source": [
    "IDF_sample[IDF_sample['valeurfonc'] >= 1000000].sbati.min()"
   ]
  },
  {
   "cell_type": "code",
   "execution_count": 145,
   "id": "8bc9f5ba-2c36-4c85-83d0-f1ad935b236b",
   "metadata": {},
   "outputs": [
    {
     "data": {
      "text/plain": [
       "True"
      ]
     },
     "execution_count": 145,
     "metadata": {},
     "output_type": "execute_result"
    }
   ],
   "source": [
    "IDF_sample['valeurfonc'].max() in np.arange(min_, max_, 100)"
   ]
  },
  {
   "cell_type": "code",
   "execution_count": 45,
   "id": "3cfa0940-64ad-41ed-8fda-93b0632c7ba7",
   "metadata": {},
   "outputs": [
    {
     "data": {
      "text/html": [
       "<div>\n",
       "<style scoped>\n",
       "    .dataframe tbody tr th:only-of-type {\n",
       "        vertical-align: middle;\n",
       "    }\n",
       "\n",
       "    .dataframe tbody tr th {\n",
       "        vertical-align: top;\n",
       "    }\n",
       "\n",
       "    .dataframe thead th {\n",
       "        text-align: right;\n",
       "    }\n",
       "</style>\n",
       "<table border=\"1\" class=\"dataframe\">\n",
       "  <thead>\n",
       "    <tr style=\"text-align: right;\">\n",
       "      <th></th>\n",
       "      <th>idmutation</th>\n",
       "      <th>idmutinvar</th>\n",
       "      <th>idopendata</th>\n",
       "      <th>idnatmut</th>\n",
       "      <th>libnatmut</th>\n",
       "      <th>vefa</th>\n",
       "      <th>valeurfonc</th>\n",
       "      <th>nbdispo</th>\n",
       "      <th>nblot</th>\n",
       "      <th>nbcomm</th>\n",
       "      <th>...</th>\n",
       "      <th>codtypbien</th>\n",
       "      <th>libtypbien</th>\n",
       "      <th>latitude</th>\n",
       "      <th>longitude</th>\n",
       "      <th>Dept</th>\n",
       "      <th>day</th>\n",
       "      <th>weekday</th>\n",
       "      <th>month</th>\n",
       "      <th>year</th>\n",
       "      <th>geometry</th>\n",
       "    </tr>\n",
       "  </thead>\n",
       "  <tbody>\n",
       "    <tr>\n",
       "      <th>26</th>\n",
       "      <td>7024642.0</td>\n",
       "      <td>168391218a4763e489ae68ceb03faedf</td>\n",
       "      <td>168391218a4763e489ae68ceb03faedf</td>\n",
       "      <td>1.0</td>\n",
       "      <td>Vente</td>\n",
       "      <td>False</td>\n",
       "      <td>1015000.0</td>\n",
       "      <td>1.0</td>\n",
       "      <td>0.0</td>\n",
       "      <td>1.0</td>\n",
       "      <td>...</td>\n",
       "      <td>14.0</td>\n",
       "      <td>ACTIVITE</td>\n",
       "      <td>48.762346</td>\n",
       "      <td>2.121472</td>\n",
       "      <td>78</td>\n",
       "      <td>1</td>\n",
       "      <td>3</td>\n",
       "      <td>10</td>\n",
       "      <td>2015</td>\n",
       "      <td>POINT (2.12147 48.76235)</td>\n",
       "    </tr>\n",
       "    <tr>\n",
       "      <th>151</th>\n",
       "      <td>8474166.0</td>\n",
       "      <td>e44ea734f7b3528e7abc03be80a8caed</td>\n",
       "      <td>e44ea734f7b3528e7abc03be80a8caed</td>\n",
       "      <td>1.0</td>\n",
       "      <td>Vente</td>\n",
       "      <td>False</td>\n",
       "      <td>1180000.0</td>\n",
       "      <td>1.0</td>\n",
       "      <td>2.0</td>\n",
       "      <td>1.0</td>\n",
       "      <td>...</td>\n",
       "      <td>121.0</td>\n",
       "      <td>UN APPARTEMENT</td>\n",
       "      <td>48.882915</td>\n",
       "      <td>2.274555</td>\n",
       "      <td>92</td>\n",
       "      <td>25</td>\n",
       "      <td>2</td>\n",
       "      <td>6</td>\n",
       "      <td>2014</td>\n",
       "      <td>POINT (2.27455 48.88292)</td>\n",
       "    </tr>\n",
       "    <tr>\n",
       "      <th>251</th>\n",
       "      <td>6893625.0</td>\n",
       "      <td>b1328451579886cbd0fd4e5883be4b32</td>\n",
       "      <td>b1328451579886cbd0fd4e5883be4b32</td>\n",
       "      <td>1.0</td>\n",
       "      <td>Vente</td>\n",
       "      <td>False</td>\n",
       "      <td>1498520.0</td>\n",
       "      <td>1.0</td>\n",
       "      <td>0.0</td>\n",
       "      <td>1.0</td>\n",
       "      <td>...</td>\n",
       "      <td>111.0</td>\n",
       "      <td>UNE MAISON</td>\n",
       "      <td>48.883991</td>\n",
       "      <td>2.123453</td>\n",
       "      <td>78</td>\n",
       "      <td>18</td>\n",
       "      <td>2</td>\n",
       "      <td>5</td>\n",
       "      <td>2016</td>\n",
       "      <td>POINT (2.12345 48.88399)</td>\n",
       "    </tr>\n",
       "    <tr>\n",
       "      <th>264</th>\n",
       "      <td>6228849.0</td>\n",
       "      <td>c41f4711ff1b25d4fe83a91744a58a42</td>\n",
       "      <td>c41f4711ff1b25d4fe83a91744a58a42</td>\n",
       "      <td>1.0</td>\n",
       "      <td>Vente</td>\n",
       "      <td>False</td>\n",
       "      <td>1018000.0</td>\n",
       "      <td>1.0</td>\n",
       "      <td>2.0</td>\n",
       "      <td>1.0</td>\n",
       "      <td>...</td>\n",
       "      <td>121.0</td>\n",
       "      <td>UN APPARTEMENT</td>\n",
       "      <td>48.858616</td>\n",
       "      <td>2.308489</td>\n",
       "      <td>75</td>\n",
       "      <td>30</td>\n",
       "      <td>2</td>\n",
       "      <td>9</td>\n",
       "      <td>2020</td>\n",
       "      <td>POINT (2.30849 48.85862)</td>\n",
       "    </tr>\n",
       "    <tr>\n",
       "      <th>296</th>\n",
       "      <td>6691732.0</td>\n",
       "      <td>6f2c0c36f6d2a8e629b9530bf1c1ca93</td>\n",
       "      <td>6f2c0c36f6d2a8e629b9530bf1c1ca93</td>\n",
       "      <td>1.0</td>\n",
       "      <td>Vente</td>\n",
       "      <td>False</td>\n",
       "      <td>1000000.0</td>\n",
       "      <td>1.0</td>\n",
       "      <td>1.0</td>\n",
       "      <td>1.0</td>\n",
       "      <td>...</td>\n",
       "      <td>121.0</td>\n",
       "      <td>UN APPARTEMENT</td>\n",
       "      <td>48.850293</td>\n",
       "      <td>2.390269</td>\n",
       "      <td>75</td>\n",
       "      <td>1</td>\n",
       "      <td>2</td>\n",
       "      <td>3</td>\n",
       "      <td>2017</td>\n",
       "      <td>POINT (2.39027 48.85029)</td>\n",
       "    </tr>\n",
       "  </tbody>\n",
       "</table>\n",
       "<p>5 rows × 60 columns</p>\n",
       "</div>"
      ],
      "text/plain": [
       "     idmutation                        idmutinvar  \\\n",
       "26    7024642.0  168391218a4763e489ae68ceb03faedf   \n",
       "151   8474166.0  e44ea734f7b3528e7abc03be80a8caed   \n",
       "251   6893625.0  b1328451579886cbd0fd4e5883be4b32   \n",
       "264   6228849.0  c41f4711ff1b25d4fe83a91744a58a42   \n",
       "296   6691732.0  6f2c0c36f6d2a8e629b9530bf1c1ca93   \n",
       "\n",
       "                           idopendata  idnatmut libnatmut   vefa  valeurfonc  \\\n",
       "26   168391218a4763e489ae68ceb03faedf       1.0     Vente  False   1015000.0   \n",
       "151  e44ea734f7b3528e7abc03be80a8caed       1.0     Vente  False   1180000.0   \n",
       "251  b1328451579886cbd0fd4e5883be4b32       1.0     Vente  False   1498520.0   \n",
       "264  c41f4711ff1b25d4fe83a91744a58a42       1.0     Vente  False   1018000.0   \n",
       "296  6f2c0c36f6d2a8e629b9530bf1c1ca93       1.0     Vente  False   1000000.0   \n",
       "\n",
       "     nbdispo  nblot  nbcomm  ... codtypbien      libtypbien   latitude  \\\n",
       "26       1.0    0.0     1.0  ...       14.0        ACTIVITE  48.762346   \n",
       "151      1.0    2.0     1.0  ...      121.0  UN APPARTEMENT  48.882915   \n",
       "251      1.0    0.0     1.0  ...      111.0      UNE MAISON  48.883991   \n",
       "264      1.0    2.0     1.0  ...      121.0  UN APPARTEMENT  48.858616   \n",
       "296      1.0    1.0     1.0  ...      121.0  UN APPARTEMENT  48.850293   \n",
       "\n",
       "     longitude Dept  day weekday  month  year                  geometry  \n",
       "26    2.121472   78    1       3     10  2015  POINT (2.12147 48.76235)  \n",
       "151   2.274555   92   25       2      6  2014  POINT (2.27455 48.88292)  \n",
       "251   2.123453   78   18       2      5  2016  POINT (2.12345 48.88399)  \n",
       "264   2.308489   75   30       2      9  2020  POINT (2.30849 48.85862)  \n",
       "296   2.390269   75    1       2      3  2017  POINT (2.39027 48.85029)  \n",
       "\n",
       "[5 rows x 60 columns]"
      ]
     },
     "execution_count": 45,
     "metadata": {},
     "output_type": "execute_result"
    }
   ],
   "source": [
    "IDF_sample[(IDF_sample['valeurfonc'] >= 1000000) & (IDF_sample['valeurfonc'] <= 1500000)].head()"
   ]
  },
  {
   "cell_type": "code",
   "execution_count": 171,
   "id": "80766b41-cb90-4abe-8690-17324c9d04d9",
   "metadata": {},
   "outputs": [
    {
     "data": {
      "text/plain": [
       "(1000, 60)"
      ]
     },
     "execution_count": 171,
     "metadata": {},
     "output_type": "execute_result"
    }
   ],
   "source": [
    "IDF_sample.shape"
   ]
  },
  {
   "cell_type": "code",
   "execution_count": 176,
   "id": "d7fdca99-5a26-4847-bdab-564d9d43003c",
   "metadata": {},
   "outputs": [
    {
     "data": {
      "text/plain": [
       "(1000, 60)"
      ]
     },
     "execution_count": 176,
     "metadata": {},
     "output_type": "execute_result"
    }
   ],
   "source": [
    "IDF_sample.drop_duplicates(subset=['idmutation']).shape"
   ]
  },
  {
   "cell_type": "code",
   "execution_count": 78,
   "id": "0e711117-51eb-4196-b7dd-cbb4a332406c",
   "metadata": {},
   "outputs": [
    {
     "data": {
      "text/html": [
       "<div>\n",
       "<style scoped>\n",
       "    .dataframe tbody tr th:only-of-type {\n",
       "        vertical-align: middle;\n",
       "    }\n",
       "\n",
       "    .dataframe tbody tr th {\n",
       "        vertical-align: top;\n",
       "    }\n",
       "\n",
       "    .dataframe thead th {\n",
       "        text-align: right;\n",
       "    }\n",
       "</style>\n",
       "<table border=\"1\" class=\"dataframe\">\n",
       "  <thead>\n",
       "    <tr style=\"text-align: right;\">\n",
       "      <th></th>\n",
       "      <th>sbati</th>\n",
       "      <th>sbatmai</th>\n",
       "      <th>sbatapt</th>\n",
       "      <th>sbatact</th>\n",
       "      <th>sapt1pp</th>\n",
       "      <th>sapt2pp</th>\n",
       "      <th>sapt3pp</th>\n",
       "      <th>sapt4pp</th>\n",
       "      <th>sapt5pp</th>\n",
       "      <th>smai1pp</th>\n",
       "      <th>smai2pp</th>\n",
       "      <th>smai3pp</th>\n",
       "      <th>smai4pp</th>\n",
       "      <th>smai5pp</th>\n",
       "    </tr>\n",
       "  </thead>\n",
       "  <tbody>\n",
       "    <tr>\n",
       "      <th>0</th>\n",
       "      <td>90.0</td>\n",
       "      <td>90.0</td>\n",
       "      <td>0.0</td>\n",
       "      <td>0.0</td>\n",
       "      <td>0.0</td>\n",
       "      <td>0.0</td>\n",
       "      <td>0.0</td>\n",
       "      <td>0.0</td>\n",
       "      <td>0.0</td>\n",
       "      <td>0.0</td>\n",
       "      <td>0.0</td>\n",
       "      <td>0.0</td>\n",
       "      <td>0.0</td>\n",
       "      <td>90.0</td>\n",
       "    </tr>\n",
       "    <tr>\n",
       "      <th>1</th>\n",
       "      <td>56.0</td>\n",
       "      <td>0.0</td>\n",
       "      <td>56.0</td>\n",
       "      <td>0.0</td>\n",
       "      <td>0.0</td>\n",
       "      <td>0.0</td>\n",
       "      <td>56.0</td>\n",
       "      <td>0.0</td>\n",
       "      <td>0.0</td>\n",
       "      <td>0.0</td>\n",
       "      <td>0.0</td>\n",
       "      <td>0.0</td>\n",
       "      <td>0.0</td>\n",
       "      <td>0.0</td>\n",
       "    </tr>\n",
       "    <tr>\n",
       "      <th>6</th>\n",
       "      <td>59.0</td>\n",
       "      <td>0.0</td>\n",
       "      <td>59.0</td>\n",
       "      <td>0.0</td>\n",
       "      <td>0.0</td>\n",
       "      <td>0.0</td>\n",
       "      <td>0.0</td>\n",
       "      <td>59.0</td>\n",
       "      <td>0.0</td>\n",
       "      <td>0.0</td>\n",
       "      <td>0.0</td>\n",
       "      <td>0.0</td>\n",
       "      <td>0.0</td>\n",
       "      <td>0.0</td>\n",
       "    </tr>\n",
       "    <tr>\n",
       "      <th>8</th>\n",
       "      <td>98.0</td>\n",
       "      <td>98.0</td>\n",
       "      <td>0.0</td>\n",
       "      <td>0.0</td>\n",
       "      <td>0.0</td>\n",
       "      <td>0.0</td>\n",
       "      <td>0.0</td>\n",
       "      <td>0.0</td>\n",
       "      <td>0.0</td>\n",
       "      <td>0.0</td>\n",
       "      <td>0.0</td>\n",
       "      <td>0.0</td>\n",
       "      <td>0.0</td>\n",
       "      <td>98.0</td>\n",
       "    </tr>\n",
       "    <tr>\n",
       "      <th>15</th>\n",
       "      <td>80.0</td>\n",
       "      <td>0.0</td>\n",
       "      <td>80.0</td>\n",
       "      <td>0.0</td>\n",
       "      <td>0.0</td>\n",
       "      <td>0.0</td>\n",
       "      <td>0.0</td>\n",
       "      <td>80.0</td>\n",
       "      <td>0.0</td>\n",
       "      <td>0.0</td>\n",
       "      <td>0.0</td>\n",
       "      <td>0.0</td>\n",
       "      <td>0.0</td>\n",
       "      <td>0.0</td>\n",
       "    </tr>\n",
       "  </tbody>\n",
       "</table>\n",
       "</div>"
      ],
      "text/plain": [
       "    sbati  sbatmai  sbatapt  sbatact  sapt1pp  sapt2pp  sapt3pp  sapt4pp  \\\n",
       "0    90.0     90.0      0.0      0.0      0.0      0.0      0.0      0.0   \n",
       "1    56.0      0.0     56.0      0.0      0.0      0.0     56.0      0.0   \n",
       "6    59.0      0.0     59.0      0.0      0.0      0.0      0.0     59.0   \n",
       "8    98.0     98.0      0.0      0.0      0.0      0.0      0.0      0.0   \n",
       "15   80.0      0.0     80.0      0.0      0.0      0.0      0.0     80.0   \n",
       "\n",
       "    sapt5pp  smai1pp  smai2pp  smai3pp  smai4pp  smai5pp  \n",
       "0       0.0      0.0      0.0      0.0      0.0     90.0  \n",
       "1       0.0      0.0      0.0      0.0      0.0      0.0  \n",
       "6       0.0      0.0      0.0      0.0      0.0      0.0  \n",
       "8       0.0      0.0      0.0      0.0      0.0     98.0  \n",
       "15      0.0      0.0      0.0      0.0      0.0      0.0  "
      ]
     },
     "execution_count": 78,
     "metadata": {},
     "output_type": "execute_result"
    }
   ],
   "source": [
    "IDF_sample[(IDF_sample['sbati'] >= 50) & (IDF_sample['sbati'] <= 120)].head()[['sbati', 'sbatmai', 'sbatapt', 'sbatact', 'sapt1pp',\n",
    "       'sapt2pp', 'sapt3pp', 'sapt4pp', 'sapt5pp', 'smai1pp', 'smai2pp',\n",
    "       'smai3pp', 'smai4pp', 'smai5pp']]"
   ]
  },
  {
   "cell_type": "code",
   "execution_count": 86,
   "id": "2a279788-671f-444a-8aa4-dcaf293fc4c6",
   "metadata": {},
   "outputs": [],
   "source": [
    "def plot_map(geo_df, dept=None, insee=None, section=None, type_of_property=None, year_of_mutation=None, max_value=None, min_value=None, min_surface=None, max_surface=None):\n",
    "    \n",
    "    \"\"\"\n",
    "    Plots a map showing the locations of properties based on the given parameters\n",
    "\n",
    "    Args:\n",
    "    geo_df (geopandas.geodataframe.GeoDataFrame): A dataframe containing property information.\n",
    "    dept (int, optional): Department number. Defaults to None.\n",
    "    insee (int, optional): Municipality code. Defaults to None.\n",
    "    section (str, optional): Property section. Defaults to None.\n",
    "    type_of_property (str, optional): Type of property. Defaults to None.\n",
    "    year_of_mutation (int, optional): Year of mutation. Defaults to None.\n",
    "    max_value (int, optional): Maximum value of property to filter data by, default is None\n",
    "    min_value (int, optional): Minimum value of property to filter data by, default is None\n",
    "    min_surface (int, optional): Minimum surface of property to filter data by, default is None\n",
    "    max_surface (int, optional): Maximum surface of property to filter data by, default is None\n",
    "\n",
    "    Returns:\n",
    "    None: If no data meets criteria or if municipality is not in selected department\n",
    "    folium.Map: Interactive map of filtered properties with markers showing property details\n",
    "    \"\"\"\n",
    "\n",
    "    \n",
    "    if dept is not None and insee is not None:\n",
    "        if np.floor(insee/1000) != dept:\n",
    "            print(\"The municipality you chose is not in the department you chose. Please change either the department or the municipality.\")\n",
    "            return None\n",
    "                \n",
    "    if dept is not None: \n",
    "        geo_zone = geo_df[geo_df['Dept'] == float(dept)]\n",
    "    else:\n",
    "        geo_zone = geo_df\n",
    "\n",
    "    if insee is not None: \n",
    "        geo_zone = geo_zone[geo_zone['l_codinsee'].apply(lambda x: str(insee) in re.findall(r'[0-9]+', x))]\n",
    "\n",
    "    if section is not None:\n",
    "        geo_zone = geo_zone[geo_zone['l_section'].apply(lambda x: str(section) in re.findall(r'[0-9-A-Z]+', x))]\n",
    "    \n",
    "    if type_of_property is not None:\n",
    "        geo_zone = geo_zone[geo_zone['libtypbien'] == type_of_property]\n",
    "    \n",
    "    if year_of_mutation is not None:\n",
    "        geo_zone = geo_zone[geo_zone['year'] == year_of_mutation]\n",
    "        \n",
    "    if max_value is not None and min_value is not None:\n",
    "        if min_value <= max_value:\n",
    "            geo_zone = geo_zone[(geo_zone['valeurfonc'] >= min_value) & (geo_zone['valeurfonc'] <= max_value)]\n",
    "        else:\n",
    "            print(\"The maximum value cannot be lower than the minimum value. Please change these creteria.\")\n",
    "            return None\n",
    "    elif max_value is None and min_value is not None:\n",
    "        geo_zone = geo_zone[geo_zone['valeurfonc'] >= min_value]\n",
    "    elif max_value is not None and min_value is None:\n",
    "        geo_zone = geo_zone[geo_zone['valeurfonc'] <= max_value]\n",
    "        \n",
    "    if min_surface is not None and max_surface is not None:\n",
    "        if min_surface <= max_surface:\n",
    "            geo_zone = geo_zone[(geo_zone['sbati'] >= min_surface) & (geo_zone['sbati'] <= max_surface)]\n",
    "        else:\n",
    "            print(\"The maximum surface cannot be lower than the minimum surface. Please change these creteria.\")\n",
    "            return None\n",
    "    elif max_surface is None and min_surface is not None:\n",
    "        geo_zone = geo_zone[geo_zone['sbati'] >= min_surface]\n",
    "    elif max_surface is not None and min_surface is None:\n",
    "        geo_zone = geo_zone[geo_zone['sbati'] <= max_surface]\n",
    "\n",
    "        \n",
    "    geo_df_list = [(i[0], i[1]) for i in geo_zone[['latitude', 'longitude']].values]\n",
    "    if len(geo_df_list) == 0:\n",
    "        print(\"There are no mutation that meet the criteria you have selected. Please change these creteria.\")\n",
    "        return None    \n",
    "    \n",
    "    \n",
    "    map = folium.Map(location=[geo_zone.latitude.median(), geo_zone.longitude.median()], tiles=\"OpenStreetMap\")\n",
    "    for i, coordinates in enumerate(geo_df_list):\n",
    "        map.add_child(\n",
    "            folium.Marker(\n",
    "                location=coordinates,\n",
    "                popup=\n",
    "                    \"Nature de la mutation: \" + str(geo_zone.libnatmut.values[i]) + \"<br>\" + \"<br>\"\n",
    "                    \"Valeur foncière: \" + str(geo_zone.valeurfonc.values[i]) + \"<br>\" + \"<br>\"\n",
    "                    f\"Date de la mutation: {geo_zone.day.values[i]}/{geo_zone.month.values[i]}/{geo_zone.year.values[i]}\" + \"<br>\" + \"<br>\"\n",
    "                    \"Type de bien: \" + str(geo_zone.libtypbien.values[i]) + \"<br>\" + \"<br>\"\n",
    "                    f\"Surface du bien: {str(geo_zone.sbati.values[i])} m^2\" + \"<br>\" + \"<br>\"\n",
    "                    \"CODE INSEE: \" + ', '.join(re.findall(r'[0-9]+', geo_zone.l_codinsee.values[i])) + \"<br>\" + \"<br>\"\n",
    "                    \"Section: \" + ', '.join(re.findall(r'[0-9A-Z]+', geo_zone.l_section.values[i])) + \"<br>\" # + \"<br>\"\n",
    "                    #+ \"Coordinates: \" + str(geo_df_list[i]),\n",
    "            )\n",
    "        )\n",
    "\n",
    "    sw = geo_zone[['latitude', 'longitude']].min().values.tolist()\n",
    "    ne = geo_zone[['latitude', 'longitude']].max().values.tolist()\n",
    "\n",
    "    map.fit_bounds([sw, ne])\n",
    "    \n",
    "    return map"
   ]
  },
  {
   "cell_type": "code",
   "execution_count": 87,
   "id": "496a4d1d-5889-4958-98e0-34b2053da216",
   "metadata": {},
   "outputs": [],
   "source": [
    "folium_map = plot_map(geo_IDF_sample, \n",
    "                      dept=75, \n",
    "                      insee=None, \n",
    "                      section=None, \n",
    "                      type_of_property=None, \n",
    "                      year_of_mutation=None, \n",
    "                      min_value=1000000, \n",
    "                      max_value=2000000, \n",
    "                      min_surface=90, \n",
    "                      max_surface=100\n",
    "                     )"
   ]
  },
  {
   "cell_type": "code",
   "execution_count": 88,
   "id": "1082e8b8-d4c5-4a9c-9420-d85011dab2c8",
   "metadata": {},
   "outputs": [
    {
     "data": {
      "text/html": [
       "<div style=\"width:100%;\"><div style=\"position:relative;width:100%;height:0;padding-bottom:60%;\"><span style=\"color:#565656\">Make this Notebook Trusted to load map: File -> Trust Notebook</span><iframe srcdoc=\"&lt;!DOCTYPE html&gt;\n",
       "&lt;html&gt;\n",
       "&lt;head&gt;\n",
       "    \n",
       "    &lt;meta http-equiv=&quot;content-type&quot; content=&quot;text/html; charset=UTF-8&quot; /&gt;\n",
       "    \n",
       "        &lt;script&gt;\n",
       "            L_NO_TOUCH = false;\n",
       "            L_DISABLE_3D = false;\n",
       "        &lt;/script&gt;\n",
       "    \n",
       "    &lt;style&gt;html, body {width: 100%;height: 100%;margin: 0;padding: 0;}&lt;/style&gt;\n",
       "    &lt;style&gt;#map {position:absolute;top:0;bottom:0;right:0;left:0;}&lt;/style&gt;\n",
       "    &lt;script src=&quot;https://cdn.jsdelivr.net/npm/leaflet@1.9.3/dist/leaflet.js&quot;&gt;&lt;/script&gt;\n",
       "    &lt;script src=&quot;https://code.jquery.com/jquery-1.12.4.min.js&quot;&gt;&lt;/script&gt;\n",
       "    &lt;script src=&quot;https://cdn.jsdelivr.net/npm/bootstrap@5.2.2/dist/js/bootstrap.bundle.min.js&quot;&gt;&lt;/script&gt;\n",
       "    &lt;script src=&quot;https://cdnjs.cloudflare.com/ajax/libs/Leaflet.awesome-markers/2.0.2/leaflet.awesome-markers.js&quot;&gt;&lt;/script&gt;\n",
       "    &lt;link rel=&quot;stylesheet&quot; href=&quot;https://cdn.jsdelivr.net/npm/leaflet@1.9.3/dist/leaflet.css&quot;/&gt;\n",
       "    &lt;link rel=&quot;stylesheet&quot; href=&quot;https://cdn.jsdelivr.net/npm/bootstrap@5.2.2/dist/css/bootstrap.min.css&quot;/&gt;\n",
       "    &lt;link rel=&quot;stylesheet&quot; href=&quot;https://netdna.bootstrapcdn.com/bootstrap/3.0.0/css/bootstrap.min.css&quot;/&gt;\n",
       "    &lt;link rel=&quot;stylesheet&quot; href=&quot;https://cdn.jsdelivr.net/npm/@fortawesome/fontawesome-free@6.2.0/css/all.min.css&quot;/&gt;\n",
       "    &lt;link rel=&quot;stylesheet&quot; href=&quot;https://cdnjs.cloudflare.com/ajax/libs/Leaflet.awesome-markers/2.0.2/leaflet.awesome-markers.css&quot;/&gt;\n",
       "    &lt;link rel=&quot;stylesheet&quot; href=&quot;https://cdn.jsdelivr.net/gh/python-visualization/folium/folium/templates/leaflet.awesome.rotate.min.css&quot;/&gt;\n",
       "    \n",
       "            &lt;meta name=&quot;viewport&quot; content=&quot;width=device-width,\n",
       "                initial-scale=1.0, maximum-scale=1.0, user-scalable=no&quot; /&gt;\n",
       "            &lt;style&gt;\n",
       "                #map_6e7578da07a49df9065ee1aa9ca3a22e {\n",
       "                    position: relative;\n",
       "                    width: 100.0%;\n",
       "                    height: 100.0%;\n",
       "                    left: 0.0%;\n",
       "                    top: 0.0%;\n",
       "                }\n",
       "                .leaflet-container { font-size: 1rem; }\n",
       "            &lt;/style&gt;\n",
       "        \n",
       "&lt;/head&gt;\n",
       "&lt;body&gt;\n",
       "    \n",
       "    \n",
       "            &lt;div class=&quot;folium-map&quot; id=&quot;map_6e7578da07a49df9065ee1aa9ca3a22e&quot; &gt;&lt;/div&gt;\n",
       "        \n",
       "&lt;/body&gt;\n",
       "&lt;script&gt;\n",
       "    \n",
       "    \n",
       "            var map_6e7578da07a49df9065ee1aa9ca3a22e = L.map(\n",
       "                &quot;map_6e7578da07a49df9065ee1aa9ca3a22e&quot;,\n",
       "                {\n",
       "                    center: [48.86615377628511, 2.297101511964052],\n",
       "                    crs: L.CRS.EPSG3857,\n",
       "                    zoom: 10,\n",
       "                    zoomControl: true,\n",
       "                    preferCanvas: false,\n",
       "                }\n",
       "            );\n",
       "\n",
       "            \n",
       "\n",
       "        \n",
       "    \n",
       "            var tile_layer_75e2dc44f87cb078a7deb52982f229f6 = L.tileLayer(\n",
       "                &quot;https://{s}.tile.openstreetmap.org/{z}/{x}/{y}.png&quot;,\n",
       "                {&quot;attribution&quot;: &quot;Data by \\u0026copy; \\u003ca target=\\&quot;_blank\\&quot; href=\\&quot;http://openstreetmap.org\\&quot;\\u003eOpenStreetMap\\u003c/a\\u003e, under \\u003ca target=\\&quot;_blank\\&quot; href=\\&quot;http://www.openstreetmap.org/copyright\\&quot;\\u003eODbL\\u003c/a\\u003e.&quot;, &quot;detectRetina&quot;: false, &quot;maxNativeZoom&quot;: 18, &quot;maxZoom&quot;: 18, &quot;minZoom&quot;: 0, &quot;noWrap&quot;: false, &quot;opacity&quot;: 1, &quot;subdomains&quot;: &quot;abc&quot;, &quot;tms&quot;: false}\n",
       "            ).addTo(map_6e7578da07a49df9065ee1aa9ca3a22e);\n",
       "        \n",
       "    \n",
       "            var marker_63d958b975e288ef6ae75e1db420c003 = L.marker(\n",
       "                [48.8579451259976, 2.282023944584492],\n",
       "                {}\n",
       "            ).addTo(map_6e7578da07a49df9065ee1aa9ca3a22e);\n",
       "        \n",
       "    \n",
       "        var popup_2c51641956814e484a950adba8992619 = L.popup({&quot;maxWidth&quot;: &quot;100%&quot;});\n",
       "\n",
       "        \n",
       "            \n",
       "                var html_7bb8b1a8c6d35d6fd988d0f2fb9f2420 = $(`&lt;div id=&quot;html_7bb8b1a8c6d35d6fd988d0f2fb9f2420&quot; style=&quot;width: 100.0%; height: 100.0%;&quot;&gt;Nature de la mutation: Vente&lt;br&gt;&lt;br&gt;Valeur foncière: 1027950.0&lt;br&gt;&lt;br&gt;Date de la mutation: 18/9/2015&lt;br&gt;&lt;br&gt;Type de bien: UN APPARTEMENT&lt;br&gt;&lt;br&gt;Surface du bien: 100.0 m^2&lt;br&gt;&lt;br&gt;CODE INSEE: 75116&lt;br&gt;&lt;br&gt;Section: CH&lt;br&gt;&lt;/div&gt;`)[0];\n",
       "                popup_2c51641956814e484a950adba8992619.setContent(html_7bb8b1a8c6d35d6fd988d0f2fb9f2420);\n",
       "            \n",
       "        \n",
       "\n",
       "        marker_63d958b975e288ef6ae75e1db420c003.bindPopup(popup_2c51641956814e484a950adba8992619)\n",
       "        ;\n",
       "\n",
       "        \n",
       "    \n",
       "    \n",
       "            var marker_251f9b570a05d5c4a02295937d5e35c6 = L.marker(\n",
       "                [48.87436242657262, 2.312179079343612],\n",
       "                {}\n",
       "            ).addTo(map_6e7578da07a49df9065ee1aa9ca3a22e);\n",
       "        \n",
       "    \n",
       "        var popup_27cd10af074571ec424c6afb38b1d6e2 = L.popup({&quot;maxWidth&quot;: &quot;100%&quot;});\n",
       "\n",
       "        \n",
       "            \n",
       "                var html_436bcbf657cb0935c9207de279b5f151 = $(`&lt;div id=&quot;html_436bcbf657cb0935c9207de279b5f151&quot; style=&quot;width: 100.0%; height: 100.0%;&quot;&gt;Nature de la mutation: Vente&lt;br&gt;&lt;br&gt;Valeur foncière: 1221750.0&lt;br&gt;&lt;br&gt;Date de la mutation: 9/12/2020&lt;br&gt;&lt;br&gt;Type de bien: UN APPARTEMENT&lt;br&gt;&lt;br&gt;Surface du bien: 95.0 m^2&lt;br&gt;&lt;br&gt;CODE INSEE: 75108&lt;br&gt;&lt;br&gt;Section: CK&lt;br&gt;&lt;/div&gt;`)[0];\n",
       "                popup_27cd10af074571ec424c6afb38b1d6e2.setContent(html_436bcbf657cb0935c9207de279b5f151);\n",
       "            \n",
       "        \n",
       "\n",
       "        marker_251f9b570a05d5c4a02295937d5e35c6.bindPopup(popup_27cd10af074571ec424c6afb38b1d6e2)\n",
       "        ;\n",
       "\n",
       "        \n",
       "    \n",
       "    \n",
       "            map_6e7578da07a49df9065ee1aa9ca3a22e.fitBounds(\n",
       "                [[48.8579451259976, 2.282023944584492], [48.87436242657262, 2.312179079343612]],\n",
       "                {}\n",
       "            );\n",
       "        \n",
       "&lt;/script&gt;\n",
       "&lt;/html&gt;\" style=\"position:absolute;width:100%;height:100%;left:0;top:0;border:none !important;\" allowfullscreen webkitallowfullscreen mozallowfullscreen></iframe></div></div>"
      ],
      "text/plain": [
       "<folium.folium.Map at 0x7fe7ee5c61c0>"
      ]
     },
     "execution_count": 88,
     "metadata": {},
     "output_type": "execute_result"
    }
   ],
   "source": [
    "folium_map"
   ]
  },
  {
   "cell_type": "code",
   "execution_count": 70,
   "id": "4ca8b575-a544-4379-9a42-0deca0201794",
   "metadata": {},
   "outputs": [
    {
     "data": {
      "text/plain": [
       "Index(['idmutation', 'idmutinvar', 'idopendata', 'idnatmut', 'libnatmut',\n",
       "       'vefa', 'valeurfonc', 'nbdispo', 'nblot', 'nbcomm', 'l_codinsee',\n",
       "       'nbsection', 'l_section', 'nbpar', 'l_idpar', 'nbparmut', 'l_idparmut',\n",
       "       'nbsuf', 'sterr', 'nbvolmut', 'nblocmut', 'l_idlocmut', 'nblocmai',\n",
       "       'nblocapt', 'nblocdep', 'nblocact', 'nbapt1pp', 'nbapt2pp', 'nbapt3pp',\n",
       "       'nbapt4pp', 'nbapt5pp', 'nbmai1pp', 'nbmai2pp', 'nbmai3pp', 'nbmai4pp',\n",
       "       'nbmai5pp', 'sbati', 'sbatmai', 'sbatapt', 'sbatact', 'sapt1pp',\n",
       "       'sapt2pp', 'sapt3pp', 'sapt4pp', 'sapt5pp', 'smai1pp', 'smai2pp',\n",
       "       'smai3pp', 'smai4pp', 'smai5pp', 'codtypbien', 'libtypbien', 'latitude',\n",
       "       'longitude', 'Dept', 'day', 'weekday', 'month', 'year'],\n",
       "      dtype='object')"
      ]
     },
     "execution_count": 70,
     "metadata": {},
     "output_type": "execute_result"
    }
   ],
   "source": [
    "IDF.columns"
   ]
  },
  {
   "cell_type": "code",
   "execution_count": 565,
   "id": "19cae12d-5855-43a5-ba44-3ecd289454c7",
   "metadata": {},
   "outputs": [
    {
     "data": {
      "text/html": [
       "<div>\n",
       "<style scoped>\n",
       "    .dataframe tbody tr th:only-of-type {\n",
       "        vertical-align: middle;\n",
       "    }\n",
       "\n",
       "    .dataframe tbody tr th {\n",
       "        vertical-align: top;\n",
       "    }\n",
       "\n",
       "    .dataframe thead th {\n",
       "        text-align: right;\n",
       "    }\n",
       "</style>\n",
       "<table border=\"1\" class=\"dataframe\">\n",
       "  <thead>\n",
       "    <tr style=\"text-align: right;\">\n",
       "      <th></th>\n",
       "      <th>index</th>\n",
       "      <th>idmutation</th>\n",
       "      <th>idmutinvar</th>\n",
       "      <th>idopendata</th>\n",
       "      <th>idnatmut</th>\n",
       "      <th>libnatmut</th>\n",
       "      <th>vefa</th>\n",
       "      <th>valeurfonc</th>\n",
       "      <th>nbdispo</th>\n",
       "      <th>nblot</th>\n",
       "      <th>...</th>\n",
       "      <th>codtypbien</th>\n",
       "      <th>libtypbien</th>\n",
       "      <th>latitude</th>\n",
       "      <th>longitude</th>\n",
       "      <th>Dept</th>\n",
       "      <th>day</th>\n",
       "      <th>weekday</th>\n",
       "      <th>month</th>\n",
       "      <th>year</th>\n",
       "      <th>geometry</th>\n",
       "    </tr>\n",
       "  </thead>\n",
       "  <tbody>\n",
       "    <tr>\n",
       "      <th>0</th>\n",
       "      <td>77185</td>\n",
       "      <td>8318802.0</td>\n",
       "      <td>0a1537a27a663b393744db0d0c2cabaf</td>\n",
       "      <td>0a1537a27a663b393744db0d0c2cabaf</td>\n",
       "      <td>1.0</td>\n",
       "      <td>Vente</td>\n",
       "      <td>False</td>\n",
       "      <td>205000.0</td>\n",
       "      <td>1.0</td>\n",
       "      <td>0.0</td>\n",
       "      <td>...</td>\n",
       "      <td>111.0</td>\n",
       "      <td>UNE MAISON</td>\n",
       "      <td>48.641863</td>\n",
       "      <td>2.313663</td>\n",
       "      <td>91</td>\n",
       "      <td>23</td>\n",
       "      <td>2</td>\n",
       "      <td>3</td>\n",
       "      <td>2016</td>\n",
       "      <td>POINT (2.31366 48.64186)</td>\n",
       "    </tr>\n",
       "    <tr>\n",
       "      <th>1</th>\n",
       "      <td>74411</td>\n",
       "      <td>8559332.0</td>\n",
       "      <td>91a0a4833ba7e97c1eac7c09a086fc02</td>\n",
       "      <td>91a0a4833ba7e97c1eac7c09a086fc02</td>\n",
       "      <td>2.0</td>\n",
       "      <td>Vente en l'état futur d'achèvement</td>\n",
       "      <td>True</td>\n",
       "      <td>236000.0</td>\n",
       "      <td>1.0</td>\n",
       "      <td>2.0</td>\n",
       "      <td>...</td>\n",
       "      <td>121.0</td>\n",
       "      <td>UN APPARTEMENT</td>\n",
       "      <td>48.734319</td>\n",
       "      <td>2.418905</td>\n",
       "      <td>94</td>\n",
       "      <td>19</td>\n",
       "      <td>3</td>\n",
       "      <td>12</td>\n",
       "      <td>2019</td>\n",
       "      <td>POINT (2.41890 48.73432)</td>\n",
       "    </tr>\n",
       "    <tr>\n",
       "      <th>2</th>\n",
       "      <td>36882</td>\n",
       "      <td>8304517.0</td>\n",
       "      <td>5bbdf07a71142f8d60c7586a600a3ecc</td>\n",
       "      <td>5bbdf07a71142f8d60c7586a600a3ecc</td>\n",
       "      <td>1.0</td>\n",
       "      <td>Vente</td>\n",
       "      <td>False</td>\n",
       "      <td>400000.0</td>\n",
       "      <td>1.0</td>\n",
       "      <td>0.0</td>\n",
       "      <td>...</td>\n",
       "      <td>111.0</td>\n",
       "      <td>UNE MAISON</td>\n",
       "      <td>48.636184</td>\n",
       "      <td>2.467077</td>\n",
       "      <td>91</td>\n",
       "      <td>27</td>\n",
       "      <td>2</td>\n",
       "      <td>7</td>\n",
       "      <td>2016</td>\n",
       "      <td>POINT (2.46708 48.63618)</td>\n",
       "    </tr>\n",
       "    <tr>\n",
       "      <th>3</th>\n",
       "      <td>74205</td>\n",
       "      <td>8104796.0</td>\n",
       "      <td>e99d8115d42deaf985e0a3be8c700e38</td>\n",
       "      <td>e99d8115d42deaf985e0a3be8c700e38</td>\n",
       "      <td>2.0</td>\n",
       "      <td>Vente en l'état futur d'achèvement</td>\n",
       "      <td>True</td>\n",
       "      <td>189000.0</td>\n",
       "      <td>1.0</td>\n",
       "      <td>2.0</td>\n",
       "      <td>...</td>\n",
       "      <td>101.0</td>\n",
       "      <td>BATI - INDETERMINE : Vefa sans descriptif</td>\n",
       "      <td>48.941224</td>\n",
       "      <td>2.432579</td>\n",
       "      <td>93</td>\n",
       "      <td>30</td>\n",
       "      <td>0</td>\n",
       "      <td>12</td>\n",
       "      <td>2019</td>\n",
       "      <td>POINT (2.43258 48.94122)</td>\n",
       "    </tr>\n",
       "    <tr>\n",
       "      <th>4</th>\n",
       "      <td>40315</td>\n",
       "      <td>7129645.0</td>\n",
       "      <td>a0bdcdfac9b1451e3ff61098159014cf</td>\n",
       "      <td>a0bdcdfac9b1451e3ff61098159014cf</td>\n",
       "      <td>1.0</td>\n",
       "      <td>Vente</td>\n",
       "      <td>False</td>\n",
       "      <td>23000.0</td>\n",
       "      <td>1.0</td>\n",
       "      <td>1.0</td>\n",
       "      <td>...</td>\n",
       "      <td>131.0</td>\n",
       "      <td>UNE DEPENDANCE</td>\n",
       "      <td>48.898697</td>\n",
       "      <td>2.087891</td>\n",
       "      <td>78</td>\n",
       "      <td>15</td>\n",
       "      <td>1</td>\n",
       "      <td>7</td>\n",
       "      <td>2014</td>\n",
       "      <td>POINT (2.08789 48.89870)</td>\n",
       "    </tr>\n",
       "  </tbody>\n",
       "</table>\n",
       "<p>5 rows × 61 columns</p>\n",
       "</div>"
      ],
      "text/plain": [
       "   index  idmutation                        idmutinvar  \\\n",
       "0  77185   8318802.0  0a1537a27a663b393744db0d0c2cabaf   \n",
       "1  74411   8559332.0  91a0a4833ba7e97c1eac7c09a086fc02   \n",
       "2  36882   8304517.0  5bbdf07a71142f8d60c7586a600a3ecc   \n",
       "3  74205   8104796.0  e99d8115d42deaf985e0a3be8c700e38   \n",
       "4  40315   7129645.0  a0bdcdfac9b1451e3ff61098159014cf   \n",
       "\n",
       "                         idopendata  idnatmut  \\\n",
       "0  0a1537a27a663b393744db0d0c2cabaf       1.0   \n",
       "1  91a0a4833ba7e97c1eac7c09a086fc02       2.0   \n",
       "2  5bbdf07a71142f8d60c7586a600a3ecc       1.0   \n",
       "3  e99d8115d42deaf985e0a3be8c700e38       2.0   \n",
       "4  a0bdcdfac9b1451e3ff61098159014cf       1.0   \n",
       "\n",
       "                            libnatmut   vefa  valeurfonc  nbdispo  nblot  ...  \\\n",
       "0                               Vente  False    205000.0      1.0    0.0  ...   \n",
       "1  Vente en l'état futur d'achèvement   True    236000.0      1.0    2.0  ...   \n",
       "2                               Vente  False    400000.0      1.0    0.0  ...   \n",
       "3  Vente en l'état futur d'achèvement   True    189000.0      1.0    2.0  ...   \n",
       "4                               Vente  False     23000.0      1.0    1.0  ...   \n",
       "\n",
       "   codtypbien                                 libtypbien   latitude longitude  \\\n",
       "0       111.0                                 UNE MAISON  48.641863  2.313663   \n",
       "1       121.0                             UN APPARTEMENT  48.734319  2.418905   \n",
       "2       111.0                                 UNE MAISON  48.636184  2.467077   \n",
       "3       101.0  BATI - INDETERMINE : Vefa sans descriptif  48.941224  2.432579   \n",
       "4       131.0                             UNE DEPENDANCE  48.898697  2.087891   \n",
       "\n",
       "   Dept day  weekday month  year                  geometry  \n",
       "0    91  23        2     3  2016  POINT (2.31366 48.64186)  \n",
       "1    94  19        3    12  2019  POINT (2.41890 48.73432)  \n",
       "2    91  27        2     7  2016  POINT (2.46708 48.63618)  \n",
       "3    93  30        0    12  2019  POINT (2.43258 48.94122)  \n",
       "4    78  15        1     7  2014  POINT (2.08789 48.89870)  \n",
       "\n",
       "[5 rows x 61 columns]"
      ]
     },
     "execution_count": 565,
     "metadata": {},
     "output_type": "execute_result"
    }
   ],
   "source": [
    "IDF_sample.head()"
   ]
  },
  {
   "cell_type": "code",
   "execution_count": 609,
   "id": "0919376b-998d-43a0-bee0-10d186ba4319",
   "metadata": {},
   "outputs": [],
   "source": [
    "dept_slider = 77"
   ]
  },
  {
   "cell_type": "code",
   "execution_count": 610,
   "id": "f0ea802f-2a4d-4881-b6f2-676e88ac72c2",
   "metadata": {},
   "outputs": [
    {
     "data": {
      "text/plain": [
       "['UN APPARTEMENT',\n",
       " 'UNE MAISON',\n",
       " 'TERRAIN DE TYPE TAB',\n",
       " 'BATI - INDETERMINE : Vefa sans descriptif',\n",
       " \"TERRAIN D'AGREMENT\",\n",
       " 'BATI MIXTE - LOGEMENT/ACTIVITE',\n",
       " 'TERRAIN DE TYPE TERRE ET PRE',\n",
       " 'DEUX APPARTEMENTS',\n",
       " 'TERRAIN VERGER',\n",
       " 'TERRAIN ARTIFICIALISE MIXTE',\n",
       " 'TERRAIN FORESTIER',\n",
       " 'DES DEPENDANCES',\n",
       " 'APPARTEMENT INDETERMINE',\n",
       " 'UNE DEPENDANCE',\n",
       " 'ACTIVITE',\n",
       " 'TERRAIN NON BATIS INDETERMINE',\n",
       " 'DES MAISONS']"
      ]
     },
     "execution_count": 610,
     "metadata": {},
     "output_type": "execute_result"
    }
   ],
   "source": [
    "IDF_sample[IDF_sample['Dept'] == dept_slider].libtypbien.unique().tolist() if dept_slider is not None else IDF_sample.libtypbien.unique().tolist()\n",
    "\n"
   ]
  },
  {
   "cell_type": "code",
   "execution_count": 179,
   "id": "2ff7ab69-0a61-4a0f-aa93-8f0776a1ca2b",
   "metadata": {
    "collapsed": true,
    "jupyter": {
     "outputs_hidden": true
    },
    "tags": []
   },
   "outputs": [
    {
     "ename": "TypeError",
     "evalue": "arg must be a string, datetime, list, tuple, 1-d array, or Series",
     "output_type": "error",
     "traceback": [
      "\u001b[0;31m---------------------------------------------------------------------------\u001b[0m",
      "\u001b[0;31mTypeError\u001b[0m                                 Traceback (most recent call last)",
      "\u001b[0;32m/var/folders/s5/c05fkgj90cz2t3tmp495bdfc0000gn/T/ipykernel_38831/2810166552.py\u001b[0m in \u001b[0;36m<module>\u001b[0;34m\u001b[0m\n\u001b[0;32m----> 1\u001b[0;31m \u001b[0mpd\u001b[0m\u001b[0;34m.\u001b[0m\u001b[0mto_datetime\u001b[0m\u001b[0;34m(\u001b[0m\u001b[0;34m[\u001b[0m\u001b[0mIDF_sample\u001b[0m\u001b[0;34m[\u001b[0m\u001b[0;34m'day'\u001b[0m\u001b[0;34m]\u001b[0m\u001b[0;34m,\u001b[0m \u001b[0mIDF_sample\u001b[0m\u001b[0;34m[\u001b[0m\u001b[0;34m'month'\u001b[0m\u001b[0;34m]\u001b[0m\u001b[0;34m,\u001b[0m\u001b[0mIDF_sample\u001b[0m\u001b[0;34m[\u001b[0m\u001b[0;34m'year'\u001b[0m\u001b[0;34m]\u001b[0m\u001b[0;34m]\u001b[0m\u001b[0;34m)\u001b[0m\u001b[0;34m\u001b[0m\u001b[0;34m\u001b[0m\u001b[0m\n\u001b[0m",
      "\u001b[0;32m~/opt/anaconda3/lib/python3.8/site-packages/pandas/core/tools/datetimes.py\u001b[0m in \u001b[0;36mto_datetime\u001b[0;34m(arg, errors, dayfirst, yearfirst, utc, format, exact, unit, infer_datetime_format, origin, cache)\u001b[0m\n\u001b[1;32m    910\u001b[0m             \u001b[0mresult\u001b[0m \u001b[0;34m=\u001b[0m \u001b[0m_convert_and_box_cache\u001b[0m\u001b[0;34m(\u001b[0m\u001b[0marg\u001b[0m\u001b[0;34m,\u001b[0m \u001b[0mcache_array\u001b[0m\u001b[0;34m)\u001b[0m\u001b[0;34m\u001b[0m\u001b[0;34m\u001b[0m\u001b[0m\n\u001b[1;32m    911\u001b[0m         \u001b[0;32melse\u001b[0m\u001b[0;34m:\u001b[0m\u001b[0;34m\u001b[0m\u001b[0;34m\u001b[0m\u001b[0m\n\u001b[0;32m--> 912\u001b[0;31m             \u001b[0mresult\u001b[0m \u001b[0;34m=\u001b[0m \u001b[0mconvert_listlike\u001b[0m\u001b[0;34m(\u001b[0m\u001b[0marg\u001b[0m\u001b[0;34m,\u001b[0m \u001b[0mformat\u001b[0m\u001b[0;34m)\u001b[0m\u001b[0;34m\u001b[0m\u001b[0;34m\u001b[0m\u001b[0m\n\u001b[0m\u001b[1;32m    913\u001b[0m     \u001b[0;32melse\u001b[0m\u001b[0;34m:\u001b[0m\u001b[0;34m\u001b[0m\u001b[0;34m\u001b[0m\u001b[0m\n\u001b[1;32m    914\u001b[0m         \u001b[0mresult\u001b[0m \u001b[0;34m=\u001b[0m \u001b[0mconvert_listlike\u001b[0m\u001b[0;34m(\u001b[0m\u001b[0mnp\u001b[0m\u001b[0;34m.\u001b[0m\u001b[0marray\u001b[0m\u001b[0;34m(\u001b[0m\u001b[0;34m[\u001b[0m\u001b[0marg\u001b[0m\u001b[0;34m]\u001b[0m\u001b[0;34m)\u001b[0m\u001b[0;34m,\u001b[0m \u001b[0mformat\u001b[0m\u001b[0;34m)\u001b[0m\u001b[0;34m[\u001b[0m\u001b[0;36m0\u001b[0m\u001b[0;34m]\u001b[0m\u001b[0;34m\u001b[0m\u001b[0;34m\u001b[0m\u001b[0m\n",
      "\u001b[0;32m~/opt/anaconda3/lib/python3.8/site-packages/pandas/core/tools/datetimes.py\u001b[0m in \u001b[0;36m_convert_listlike_datetimes\u001b[0;34m(arg, format, name, tz, unit, errors, infer_datetime_format, dayfirst, yearfirst, exact)\u001b[0m\n\u001b[1;32m    356\u001b[0m         \u001b[0;32mreturn\u001b[0m \u001b[0m_to_datetime_with_unit\u001b[0m\u001b[0;34m(\u001b[0m\u001b[0marg\u001b[0m\u001b[0;34m,\u001b[0m \u001b[0munit\u001b[0m\u001b[0;34m,\u001b[0m \u001b[0mname\u001b[0m\u001b[0;34m,\u001b[0m \u001b[0mtz\u001b[0m\u001b[0;34m,\u001b[0m \u001b[0merrors\u001b[0m\u001b[0;34m)\u001b[0m\u001b[0;34m\u001b[0m\u001b[0;34m\u001b[0m\u001b[0m\n\u001b[1;32m    357\u001b[0m     \u001b[0;32melif\u001b[0m \u001b[0mgetattr\u001b[0m\u001b[0;34m(\u001b[0m\u001b[0marg\u001b[0m\u001b[0;34m,\u001b[0m \u001b[0;34m\"ndim\"\u001b[0m\u001b[0;34m,\u001b[0m \u001b[0;36m1\u001b[0m\u001b[0;34m)\u001b[0m \u001b[0;34m>\u001b[0m \u001b[0;36m1\u001b[0m\u001b[0;34m:\u001b[0m\u001b[0;34m\u001b[0m\u001b[0;34m\u001b[0m\u001b[0m\n\u001b[0;32m--> 358\u001b[0;31m         raise TypeError(\n\u001b[0m\u001b[1;32m    359\u001b[0m             \u001b[0;34m\"arg must be a string, datetime, list, tuple, 1-d array, or Series\"\u001b[0m\u001b[0;34m\u001b[0m\u001b[0;34m\u001b[0m\u001b[0m\n\u001b[1;32m    360\u001b[0m         )\n",
      "\u001b[0;31mTypeError\u001b[0m: arg must be a string, datetime, list, tuple, 1-d array, or Series"
     ]
    }
   ],
   "source": [
    "pd.to_datetime([IDF_sample['day'], IDF_sample['month'],IDF_sample['year']])"
   ]
  },
  {
   "cell_type": "code",
   "execution_count": 182,
   "id": "c26a12cf-b8a1-461f-bfc5-1048ef757dd9",
   "metadata": {},
   "outputs": [],
   "source": [
    "IDF_sample['date'] = pd.to_datetime(dict(day=IDF_sample.day, month=IDF_sample.month, year=IDF_sample.year))\n"
   ]
  },
  {
   "cell_type": "code",
   "execution_count": 195,
   "id": "9070bb03-f2a5-4c3e-8577-0b2310ddbd11",
   "metadata": {},
   "outputs": [
    {
     "data": {
      "text/plain": [
       "DatetimeIndex(['2014-01-06', '2014-01-10', '2014-01-17', '2014-01-20',\n",
       "               '2014-01-24', '2014-01-27', '2014-01-28', '2014-01-29',\n",
       "               '2014-01-30', '2014-01-31',\n",
       "               ...\n",
       "               '2020-11-20', '2020-11-25', '2020-12-01', '2020-12-02',\n",
       "               '2020-12-09', '2020-12-10', '2020-12-16', '2020-12-17',\n",
       "               '2020-12-18', '2020-12-29'],\n",
       "              dtype='datetime64[ns]', name='date', length=770, freq=None)"
      ]
     },
     "execution_count": 195,
     "metadata": {},
     "output_type": "execute_result"
    }
   ],
   "source": [
    "IDF_sample[IDF_sample['valeurfonc'] <= 1500000].groupby('date').mean().index"
   ]
  },
  {
   "cell_type": "code",
   "execution_count": 214,
   "id": "202b678f-e6bb-4954-b93d-a39fdc20580c",
   "metadata": {},
   "outputs": [],
   "source": [
    "IDF = pd.read_csv('data_right_price/Data localisée/mutations_IDF_train_localized.csv', index_col='Unnamed: 0')"
   ]
  },
  {
   "cell_type": "code",
   "execution_count": 215,
   "id": "fc43a9df-83fb-4c2e-b947-3f837fd589f4",
   "metadata": {},
   "outputs": [],
   "source": [
    "IDF.datemut = pd.to_datetime(IDF.datemut)\n",
    "IDF['day'] = IDF.datemut.dt.day\n",
    "IDF['weekday'] = IDF.datemut.dt.weekday\n",
    "IDF['month'] = IDF.datemut.dt.month\n",
    "IDF['year'] = IDF.datemut.dt.year\n",
    "IDF.drop(['anneemut', 'moismut', 'coddep', 'vefa'], axis=1, inplace=True)"
   ]
  },
  {
   "cell_type": "code",
   "execution_count": 228,
   "id": "2da8c042-1005-4780-9de8-0929af0230b9",
   "metadata": {},
   "outputs": [],
   "source": [
    "IDF['day_month'] = pd.to_datetime(dict(day=IDF_sample.day, month=IDF_sample.month, year=2000))"
   ]
  },
  {
   "cell_type": "code",
   "execution_count": 216,
   "id": "3d48c2df-5af5-471e-bf3b-7fb424bfc861",
   "metadata": {},
   "outputs": [
    {
     "data": {
      "text/html": [
       "<div>\n",
       "<style scoped>\n",
       "    .dataframe tbody tr th:only-of-type {\n",
       "        vertical-align: middle;\n",
       "    }\n",
       "\n",
       "    .dataframe tbody tr th {\n",
       "        vertical-align: top;\n",
       "    }\n",
       "\n",
       "    .dataframe thead th {\n",
       "        text-align: right;\n",
       "    }\n",
       "</style>\n",
       "<table border=\"1\" class=\"dataframe\">\n",
       "  <thead>\n",
       "    <tr style=\"text-align: right;\">\n",
       "      <th></th>\n",
       "      <th>idmutation</th>\n",
       "      <th>idmutinvar</th>\n",
       "      <th>idopendata</th>\n",
       "      <th>idnatmut</th>\n",
       "      <th>codservch</th>\n",
       "      <th>refdoc</th>\n",
       "      <th>datemut</th>\n",
       "      <th>libnatmut</th>\n",
       "      <th>valeurfonc</th>\n",
       "      <th>nbdispo</th>\n",
       "      <th>...</th>\n",
       "      <th>smai5pp</th>\n",
       "      <th>codtypbien</th>\n",
       "      <th>libtypbien</th>\n",
       "      <th>latitude</th>\n",
       "      <th>longitude</th>\n",
       "      <th>Dept</th>\n",
       "      <th>day</th>\n",
       "      <th>weekday</th>\n",
       "      <th>month</th>\n",
       "      <th>year</th>\n",
       "    </tr>\n",
       "  </thead>\n",
       "  <tbody>\n",
       "    <tr>\n",
       "      <th>0</th>\n",
       "      <td>6539278.0</td>\n",
       "      <td>9b7b4d9b9700ca770f3f498b5d69eaf3</td>\n",
       "      <td>9b7b4d9b9700ca770f3f498b5d69eaf3</td>\n",
       "      <td>1.0</td>\n",
       "      <td>NaN</td>\n",
       "      <td>NaN</td>\n",
       "      <td>2018-04-06</td>\n",
       "      <td>Vente</td>\n",
       "      <td>650340.0</td>\n",
       "      <td>1.0</td>\n",
       "      <td>...</td>\n",
       "      <td>0.0</td>\n",
       "      <td>121.0</td>\n",
       "      <td>UN APPARTEMENT</td>\n",
       "      <td>48.868229</td>\n",
       "      <td>2.347402</td>\n",
       "      <td>75</td>\n",
       "      <td>6</td>\n",
       "      <td>4</td>\n",
       "      <td>4</td>\n",
       "      <td>2018</td>\n",
       "    </tr>\n",
       "    <tr>\n",
       "      <th>1</th>\n",
       "      <td>6660956.0</td>\n",
       "      <td>3c49a78206ac11f9695bad48967f898e</td>\n",
       "      <td>3c49a78206ac11f9695bad48967f898e</td>\n",
       "      <td>1.0</td>\n",
       "      <td>NaN</td>\n",
       "      <td>NaN</td>\n",
       "      <td>2017-07-06</td>\n",
       "      <td>Vente</td>\n",
       "      <td>380000.0</td>\n",
       "      <td>1.0</td>\n",
       "      <td>...</td>\n",
       "      <td>0.0</td>\n",
       "      <td>121.0</td>\n",
       "      <td>UN APPARTEMENT</td>\n",
       "      <td>48.866863</td>\n",
       "      <td>2.374773</td>\n",
       "      <td>75</td>\n",
       "      <td>6</td>\n",
       "      <td>3</td>\n",
       "      <td>7</td>\n",
       "      <td>2017</td>\n",
       "    </tr>\n",
       "    <tr>\n",
       "      <th>2</th>\n",
       "      <td>6374603.0</td>\n",
       "      <td>43db5a7809b243060479e1bca9def379</td>\n",
       "      <td>43db5a7809b243060479e1bca9def379</td>\n",
       "      <td>1.0</td>\n",
       "      <td>NaN</td>\n",
       "      <td>NaN</td>\n",
       "      <td>2019-07-18</td>\n",
       "      <td>Vente</td>\n",
       "      <td>105000.0</td>\n",
       "      <td>1.0</td>\n",
       "      <td>...</td>\n",
       "      <td>0.0</td>\n",
       "      <td>131.0</td>\n",
       "      <td>UNE DEPENDANCE</td>\n",
       "      <td>48.866879</td>\n",
       "      <td>2.369324</td>\n",
       "      <td>75</td>\n",
       "      <td>18</td>\n",
       "      <td>3</td>\n",
       "      <td>7</td>\n",
       "      <td>2019</td>\n",
       "    </tr>\n",
       "    <tr>\n",
       "      <th>3</th>\n",
       "      <td>6393753.0</td>\n",
       "      <td>7bba166c612dfbd6c0694a2ab3209bab</td>\n",
       "      <td>7bba166c612dfbd6c0694a2ab3209bab</td>\n",
       "      <td>1.0</td>\n",
       "      <td>NaN</td>\n",
       "      <td>NaN</td>\n",
       "      <td>2019-05-16</td>\n",
       "      <td>Vente</td>\n",
       "      <td>415000.0</td>\n",
       "      <td>1.0</td>\n",
       "      <td>...</td>\n",
       "      <td>0.0</td>\n",
       "      <td>14.0</td>\n",
       "      <td>ACTIVITE</td>\n",
       "      <td>48.856434</td>\n",
       "      <td>2.357901</td>\n",
       "      <td>75</td>\n",
       "      <td>16</td>\n",
       "      <td>3</td>\n",
       "      <td>5</td>\n",
       "      <td>2019</td>\n",
       "    </tr>\n",
       "    <tr>\n",
       "      <th>4</th>\n",
       "      <td>7090098.0</td>\n",
       "      <td>24b9ace5aaea518ba15bd43c0ffc6141</td>\n",
       "      <td>24b9ace5aaea518ba15bd43c0ffc6141</td>\n",
       "      <td>1.0</td>\n",
       "      <td>NaN</td>\n",
       "      <td>NaN</td>\n",
       "      <td>2014-05-14</td>\n",
       "      <td>Vente</td>\n",
       "      <td>90000.0</td>\n",
       "      <td>1.0</td>\n",
       "      <td>...</td>\n",
       "      <td>0.0</td>\n",
       "      <td>131.0</td>\n",
       "      <td>UNE DEPENDANCE</td>\n",
       "      <td>48.873301</td>\n",
       "      <td>2.303682</td>\n",
       "      <td>75</td>\n",
       "      <td>14</td>\n",
       "      <td>2</td>\n",
       "      <td>5</td>\n",
       "      <td>2014</td>\n",
       "    </tr>\n",
       "  </tbody>\n",
       "</table>\n",
       "<p>5 rows × 61 columns</p>\n",
       "</div>"
      ],
      "text/plain": [
       "   idmutation                        idmutinvar  \\\n",
       "0   6539278.0  9b7b4d9b9700ca770f3f498b5d69eaf3   \n",
       "1   6660956.0  3c49a78206ac11f9695bad48967f898e   \n",
       "2   6374603.0  43db5a7809b243060479e1bca9def379   \n",
       "3   6393753.0  7bba166c612dfbd6c0694a2ab3209bab   \n",
       "4   7090098.0  24b9ace5aaea518ba15bd43c0ffc6141   \n",
       "\n",
       "                         idopendata  idnatmut  codservch  refdoc    datemut  \\\n",
       "0  9b7b4d9b9700ca770f3f498b5d69eaf3       1.0        NaN     NaN 2018-04-06   \n",
       "1  3c49a78206ac11f9695bad48967f898e       1.0        NaN     NaN 2017-07-06   \n",
       "2  43db5a7809b243060479e1bca9def379       1.0        NaN     NaN 2019-07-18   \n",
       "3  7bba166c612dfbd6c0694a2ab3209bab       1.0        NaN     NaN 2019-05-16   \n",
       "4  24b9ace5aaea518ba15bd43c0ffc6141       1.0        NaN     NaN 2014-05-14   \n",
       "\n",
       "  libnatmut  valeurfonc  nbdispo  ...  smai5pp  codtypbien      libtypbien  \\\n",
       "0     Vente    650340.0      1.0  ...      0.0       121.0  UN APPARTEMENT   \n",
       "1     Vente    380000.0      1.0  ...      0.0       121.0  UN APPARTEMENT   \n",
       "2     Vente    105000.0      1.0  ...      0.0       131.0  UNE DEPENDANCE   \n",
       "3     Vente    415000.0      1.0  ...      0.0        14.0        ACTIVITE   \n",
       "4     Vente     90000.0      1.0  ...      0.0       131.0  UNE DEPENDANCE   \n",
       "\n",
       "    latitude longitude  Dept day  weekday month  year  \n",
       "0  48.868229  2.347402    75   6        4     4  2018  \n",
       "1  48.866863  2.374773    75   6        3     7  2017  \n",
       "2  48.866879  2.369324    75  18        3     7  2019  \n",
       "3  48.856434  2.357901    75  16        3     5  2019  \n",
       "4  48.873301  2.303682    75  14        2     5  2014  \n",
       "\n",
       "[5 rows x 61 columns]"
      ]
     },
     "execution_count": 216,
     "metadata": {},
     "output_type": "execute_result"
    }
   ],
   "source": [
    "IDF.head()"
   ]
  },
  {
   "cell_type": "code",
   "execution_count": 218,
   "id": "550a5ee6-d188-4f14-b971-35a1981060db",
   "metadata": {
    "tags": []
   },
   "outputs": [
    {
     "data": {
      "text/html": [
       "<div>\n",
       "<style scoped>\n",
       "    .dataframe tbody tr th:only-of-type {\n",
       "        vertical-align: middle;\n",
       "    }\n",
       "\n",
       "    .dataframe tbody tr th {\n",
       "        vertical-align: top;\n",
       "    }\n",
       "\n",
       "    .dataframe thead th {\n",
       "        text-align: right;\n",
       "    }\n",
       "</style>\n",
       "<table border=\"1\" class=\"dataframe\">\n",
       "  <thead>\n",
       "    <tr style=\"text-align: right;\">\n",
       "      <th></th>\n",
       "      <th>idmutation</th>\n",
       "      <th>idnatmut</th>\n",
       "      <th>codservch</th>\n",
       "      <th>refdoc</th>\n",
       "      <th>valeurfonc</th>\n",
       "      <th>nbdispo</th>\n",
       "      <th>nblot</th>\n",
       "      <th>nbcomm</th>\n",
       "      <th>nbsection</th>\n",
       "      <th>nbpar</th>\n",
       "      <th>...</th>\n",
       "      <th>smai4pp</th>\n",
       "      <th>smai5pp</th>\n",
       "      <th>codtypbien</th>\n",
       "      <th>latitude</th>\n",
       "      <th>longitude</th>\n",
       "      <th>Dept</th>\n",
       "      <th>day</th>\n",
       "      <th>weekday</th>\n",
       "      <th>month</th>\n",
       "      <th>year</th>\n",
       "    </tr>\n",
       "    <tr>\n",
       "      <th>datemut</th>\n",
       "      <th></th>\n",
       "      <th></th>\n",
       "      <th></th>\n",
       "      <th></th>\n",
       "      <th></th>\n",
       "      <th></th>\n",
       "      <th></th>\n",
       "      <th></th>\n",
       "      <th></th>\n",
       "      <th></th>\n",
       "      <th></th>\n",
       "      <th></th>\n",
       "      <th></th>\n",
       "      <th></th>\n",
       "      <th></th>\n",
       "      <th></th>\n",
       "      <th></th>\n",
       "      <th></th>\n",
       "      <th></th>\n",
       "      <th></th>\n",
       "      <th></th>\n",
       "    </tr>\n",
       "  </thead>\n",
       "  <tbody>\n",
       "    <tr>\n",
       "      <th>2014-01-02</th>\n",
       "      <td>7.880480e+06</td>\n",
       "      <td>1.045455</td>\n",
       "      <td>NaN</td>\n",
       "      <td>NaN</td>\n",
       "      <td>250888.561970</td>\n",
       "      <td>1.000000</td>\n",
       "      <td>1.401515</td>\n",
       "      <td>1.000000</td>\n",
       "      <td>1.030303</td>\n",
       "      <td>1.212121</td>\n",
       "      <td>...</td>\n",
       "      <td>6.795455</td>\n",
       "      <td>9.772727</td>\n",
       "      <td>133.295455</td>\n",
       "      <td>48.836084</td>\n",
       "      <td>2.350783</td>\n",
       "      <td>84.992424</td>\n",
       "      <td>2.0</td>\n",
       "      <td>3.0</td>\n",
       "      <td>1.0</td>\n",
       "      <td>2014.0</td>\n",
       "    </tr>\n",
       "    <tr>\n",
       "      <th>2014-01-03</th>\n",
       "      <td>7.878015e+06</td>\n",
       "      <td>1.025000</td>\n",
       "      <td>NaN</td>\n",
       "      <td>NaN</td>\n",
       "      <td>245199.671250</td>\n",
       "      <td>1.000000</td>\n",
       "      <td>1.464286</td>\n",
       "      <td>1.003571</td>\n",
       "      <td>1.014286</td>\n",
       "      <td>1.282143</td>\n",
       "      <td>...</td>\n",
       "      <td>6.696429</td>\n",
       "      <td>11.653571</td>\n",
       "      <td>147.303571</td>\n",
       "      <td>48.828142</td>\n",
       "      <td>2.353655</td>\n",
       "      <td>84.828571</td>\n",
       "      <td>3.0</td>\n",
       "      <td>4.0</td>\n",
       "      <td>1.0</td>\n",
       "      <td>2014.0</td>\n",
       "    </tr>\n",
       "    <tr>\n",
       "      <th>2014-01-04</th>\n",
       "      <td>8.103932e+06</td>\n",
       "      <td>1.000000</td>\n",
       "      <td>NaN</td>\n",
       "      <td>NaN</td>\n",
       "      <td>104096.733333</td>\n",
       "      <td>1.066667</td>\n",
       "      <td>1.400000</td>\n",
       "      <td>1.000000</td>\n",
       "      <td>1.000000</td>\n",
       "      <td>1.066667</td>\n",
       "      <td>...</td>\n",
       "      <td>0.000000</td>\n",
       "      <td>0.000000</td>\n",
       "      <td>114.466667</td>\n",
       "      <td>48.855593</td>\n",
       "      <td>2.458454</td>\n",
       "      <td>87.600000</td>\n",
       "      <td>4.0</td>\n",
       "      <td>5.0</td>\n",
       "      <td>1.0</td>\n",
       "      <td>2014.0</td>\n",
       "    </tr>\n",
       "    <tr>\n",
       "      <th>2014-01-05</th>\n",
       "      <td>7.128695e+06</td>\n",
       "      <td>1.000000</td>\n",
       "      <td>NaN</td>\n",
       "      <td>NaN</td>\n",
       "      <td>195000.000000</td>\n",
       "      <td>1.000000</td>\n",
       "      <td>0.000000</td>\n",
       "      <td>1.000000</td>\n",
       "      <td>1.000000</td>\n",
       "      <td>1.000000</td>\n",
       "      <td>...</td>\n",
       "      <td>82.000000</td>\n",
       "      <td>0.000000</td>\n",
       "      <td>111.000000</td>\n",
       "      <td>48.387612</td>\n",
       "      <td>2.888218</td>\n",
       "      <td>77.000000</td>\n",
       "      <td>5.0</td>\n",
       "      <td>6.0</td>\n",
       "      <td>1.0</td>\n",
       "      <td>2014.0</td>\n",
       "    </tr>\n",
       "    <tr>\n",
       "      <th>2014-01-06</th>\n",
       "      <td>8.009034e+06</td>\n",
       "      <td>1.101754</td>\n",
       "      <td>NaN</td>\n",
       "      <td>NaN</td>\n",
       "      <td>255781.165053</td>\n",
       "      <td>1.010526</td>\n",
       "      <td>1.445614</td>\n",
       "      <td>1.007018</td>\n",
       "      <td>1.024561</td>\n",
       "      <td>1.228070</td>\n",
       "      <td>...</td>\n",
       "      <td>8.684211</td>\n",
       "      <td>10.540351</td>\n",
       "      <td>123.687719</td>\n",
       "      <td>48.843211</td>\n",
       "      <td>2.349391</td>\n",
       "      <td>86.273684</td>\n",
       "      <td>6.0</td>\n",
       "      <td>0.0</td>\n",
       "      <td>1.0</td>\n",
       "      <td>2014.0</td>\n",
       "    </tr>\n",
       "    <tr>\n",
       "      <th>...</th>\n",
       "      <td>...</td>\n",
       "      <td>...</td>\n",
       "      <td>...</td>\n",
       "      <td>...</td>\n",
       "      <td>...</td>\n",
       "      <td>...</td>\n",
       "      <td>...</td>\n",
       "      <td>...</td>\n",
       "      <td>...</td>\n",
       "      <td>...</td>\n",
       "      <td>...</td>\n",
       "      <td>...</td>\n",
       "      <td>...</td>\n",
       "      <td>...</td>\n",
       "      <td>...</td>\n",
       "      <td>...</td>\n",
       "      <td>...</td>\n",
       "      <td>...</td>\n",
       "      <td>...</td>\n",
       "      <td>...</td>\n",
       "      <td>...</td>\n",
       "    </tr>\n",
       "    <tr>\n",
       "      <th>2020-12-26</th>\n",
       "      <td>6.834462e+06</td>\n",
       "      <td>1.000000</td>\n",
       "      <td>NaN</td>\n",
       "      <td>NaN</td>\n",
       "      <td>576750.000000</td>\n",
       "      <td>1.000000</td>\n",
       "      <td>1.250000</td>\n",
       "      <td>1.000000</td>\n",
       "      <td>1.000000</td>\n",
       "      <td>1.250000</td>\n",
       "      <td>...</td>\n",
       "      <td>0.000000</td>\n",
       "      <td>42.000000</td>\n",
       "      <td>118.500000</td>\n",
       "      <td>48.889874</td>\n",
       "      <td>2.226530</td>\n",
       "      <td>80.500000</td>\n",
       "      <td>26.0</td>\n",
       "      <td>5.0</td>\n",
       "      <td>12.0</td>\n",
       "      <td>2020.0</td>\n",
       "    </tr>\n",
       "    <tr>\n",
       "      <th>2020-12-28</th>\n",
       "      <td>7.283377e+06</td>\n",
       "      <td>1.317411</td>\n",
       "      <td>NaN</td>\n",
       "      <td>NaN</td>\n",
       "      <td>284467.236579</td>\n",
       "      <td>1.006163</td>\n",
       "      <td>1.523883</td>\n",
       "      <td>1.004622</td>\n",
       "      <td>1.018490</td>\n",
       "      <td>1.171032</td>\n",
       "      <td>...</td>\n",
       "      <td>5.231125</td>\n",
       "      <td>13.277350</td>\n",
       "      <td>124.577812</td>\n",
       "      <td>48.820878</td>\n",
       "      <td>2.396927</td>\n",
       "      <td>84.919877</td>\n",
       "      <td>28.0</td>\n",
       "      <td>0.0</td>\n",
       "      <td>12.0</td>\n",
       "      <td>2020.0</td>\n",
       "    </tr>\n",
       "    <tr>\n",
       "      <th>2020-12-29</th>\n",
       "      <td>7.259544e+06</td>\n",
       "      <td>1.279144</td>\n",
       "      <td>NaN</td>\n",
       "      <td>NaN</td>\n",
       "      <td>273838.032802</td>\n",
       "      <td>1.003209</td>\n",
       "      <td>1.484492</td>\n",
       "      <td>1.002139</td>\n",
       "      <td>1.013904</td>\n",
       "      <td>1.202139</td>\n",
       "      <td>...</td>\n",
       "      <td>5.812834</td>\n",
       "      <td>12.546524</td>\n",
       "      <td>134.397861</td>\n",
       "      <td>48.819403</td>\n",
       "      <td>2.390913</td>\n",
       "      <td>84.721925</td>\n",
       "      <td>29.0</td>\n",
       "      <td>1.0</td>\n",
       "      <td>12.0</td>\n",
       "      <td>2020.0</td>\n",
       "    </tr>\n",
       "    <tr>\n",
       "      <th>2020-12-30</th>\n",
       "      <td>7.281367e+06</td>\n",
       "      <td>1.301158</td>\n",
       "      <td>NaN</td>\n",
       "      <td>NaN</td>\n",
       "      <td>283700.729517</td>\n",
       "      <td>1.004826</td>\n",
       "      <td>1.666988</td>\n",
       "      <td>1.003861</td>\n",
       "      <td>1.012548</td>\n",
       "      <td>1.156371</td>\n",
       "      <td>...</td>\n",
       "      <td>5.250000</td>\n",
       "      <td>11.740347</td>\n",
       "      <td>126.638996</td>\n",
       "      <td>48.806213</td>\n",
       "      <td>2.386572</td>\n",
       "      <td>84.865830</td>\n",
       "      <td>30.0</td>\n",
       "      <td>2.0</td>\n",
       "      <td>12.0</td>\n",
       "      <td>2020.0</td>\n",
       "    </tr>\n",
       "    <tr>\n",
       "      <th>2020-12-31</th>\n",
       "      <td>7.268475e+06</td>\n",
       "      <td>1.352657</td>\n",
       "      <td>NaN</td>\n",
       "      <td>NaN</td>\n",
       "      <td>255833.493382</td>\n",
       "      <td>1.004831</td>\n",
       "      <td>1.603865</td>\n",
       "      <td>1.004831</td>\n",
       "      <td>1.014493</td>\n",
       "      <td>1.164251</td>\n",
       "      <td>...</td>\n",
       "      <td>4.676329</td>\n",
       "      <td>11.700483</td>\n",
       "      <td>130.285024</td>\n",
       "      <td>48.824065</td>\n",
       "      <td>2.389160</td>\n",
       "      <td>84.797101</td>\n",
       "      <td>31.0</td>\n",
       "      <td>3.0</td>\n",
       "      <td>12.0</td>\n",
       "      <td>2020.0</td>\n",
       "    </tr>\n",
       "  </tbody>\n",
       "</table>\n",
       "<p>2342 rows × 51 columns</p>\n",
       "</div>"
      ],
      "text/plain": [
       "              idmutation  idnatmut  codservch  refdoc     valeurfonc  \\\n",
       "datemut                                                                \n",
       "2014-01-02  7.880480e+06  1.045455        NaN     NaN  250888.561970   \n",
       "2014-01-03  7.878015e+06  1.025000        NaN     NaN  245199.671250   \n",
       "2014-01-04  8.103932e+06  1.000000        NaN     NaN  104096.733333   \n",
       "2014-01-05  7.128695e+06  1.000000        NaN     NaN  195000.000000   \n",
       "2014-01-06  8.009034e+06  1.101754        NaN     NaN  255781.165053   \n",
       "...                  ...       ...        ...     ...            ...   \n",
       "2020-12-26  6.834462e+06  1.000000        NaN     NaN  576750.000000   \n",
       "2020-12-28  7.283377e+06  1.317411        NaN     NaN  284467.236579   \n",
       "2020-12-29  7.259544e+06  1.279144        NaN     NaN  273838.032802   \n",
       "2020-12-30  7.281367e+06  1.301158        NaN     NaN  283700.729517   \n",
       "2020-12-31  7.268475e+06  1.352657        NaN     NaN  255833.493382   \n",
       "\n",
       "             nbdispo     nblot    nbcomm  nbsection     nbpar  ...    smai4pp  \\\n",
       "datemut                                                        ...              \n",
       "2014-01-02  1.000000  1.401515  1.000000   1.030303  1.212121  ...   6.795455   \n",
       "2014-01-03  1.000000  1.464286  1.003571   1.014286  1.282143  ...   6.696429   \n",
       "2014-01-04  1.066667  1.400000  1.000000   1.000000  1.066667  ...   0.000000   \n",
       "2014-01-05  1.000000  0.000000  1.000000   1.000000  1.000000  ...  82.000000   \n",
       "2014-01-06  1.010526  1.445614  1.007018   1.024561  1.228070  ...   8.684211   \n",
       "...              ...       ...       ...        ...       ...  ...        ...   \n",
       "2020-12-26  1.000000  1.250000  1.000000   1.000000  1.250000  ...   0.000000   \n",
       "2020-12-28  1.006163  1.523883  1.004622   1.018490  1.171032  ...   5.231125   \n",
       "2020-12-29  1.003209  1.484492  1.002139   1.013904  1.202139  ...   5.812834   \n",
       "2020-12-30  1.004826  1.666988  1.003861   1.012548  1.156371  ...   5.250000   \n",
       "2020-12-31  1.004831  1.603865  1.004831   1.014493  1.164251  ...   4.676329   \n",
       "\n",
       "              smai5pp  codtypbien   latitude  longitude       Dept   day  \\\n",
       "datemut                                                                    \n",
       "2014-01-02   9.772727  133.295455  48.836084   2.350783  84.992424   2.0   \n",
       "2014-01-03  11.653571  147.303571  48.828142   2.353655  84.828571   3.0   \n",
       "2014-01-04   0.000000  114.466667  48.855593   2.458454  87.600000   4.0   \n",
       "2014-01-05   0.000000  111.000000  48.387612   2.888218  77.000000   5.0   \n",
       "2014-01-06  10.540351  123.687719  48.843211   2.349391  86.273684   6.0   \n",
       "...               ...         ...        ...        ...        ...   ...   \n",
       "2020-12-26  42.000000  118.500000  48.889874   2.226530  80.500000  26.0   \n",
       "2020-12-28  13.277350  124.577812  48.820878   2.396927  84.919877  28.0   \n",
       "2020-12-29  12.546524  134.397861  48.819403   2.390913  84.721925  29.0   \n",
       "2020-12-30  11.740347  126.638996  48.806213   2.386572  84.865830  30.0   \n",
       "2020-12-31  11.700483  130.285024  48.824065   2.389160  84.797101  31.0   \n",
       "\n",
       "            weekday  month    year  \n",
       "datemut                             \n",
       "2014-01-02      3.0    1.0  2014.0  \n",
       "2014-01-03      4.0    1.0  2014.0  \n",
       "2014-01-04      5.0    1.0  2014.0  \n",
       "2014-01-05      6.0    1.0  2014.0  \n",
       "2014-01-06      0.0    1.0  2014.0  \n",
       "...             ...    ...     ...  \n",
       "2020-12-26      5.0   12.0  2020.0  \n",
       "2020-12-28      0.0   12.0  2020.0  \n",
       "2020-12-29      1.0   12.0  2020.0  \n",
       "2020-12-30      2.0   12.0  2020.0  \n",
       "2020-12-31      3.0   12.0  2020.0  \n",
       "\n",
       "[2342 rows x 51 columns]"
      ]
     },
     "execution_count": 218,
     "metadata": {},
     "output_type": "execute_result"
    }
   ],
   "source": [
    "IDF[IDF['valeurfonc'] <= 1500000].groupby('datemut').mean()#.index.astype(str).tolist()"
   ]
  },
  {
   "cell_type": "code",
   "execution_count": 223,
   "id": "03419ea6-2f8f-4517-b8e7-9e3d16871f0d",
   "metadata": {},
   "outputs": [
    {
     "data": {
      "text/plain": [
       "[<matplotlib.lines.Line2D at 0x7fe7479c3d60>]"
      ]
     },
     "execution_count": 223,
     "metadata": {},
     "output_type": "execute_result"
    },
    {
     "data": {
      "image/png": "[encoded data removed]",
      "text/plain": [
       "<Figure size 648x432 with 1 Axes>"
      ]
     },
     "metadata": {
      "needs_background": "light"
     },
     "output_type": "display_data"
    }
   ],
   "source": [
    "import matplotlib.pyplot as plt\n",
    "_, ax = plt.subplots(figsize=(9, 6))\n",
    "ax.plot(IDF[IDF['valeurfonc'] <= 1000000].groupby('datemut').mean()['valeurfonc'])"
   ]
  },
  {
   "cell_type": "markdown",
   "id": "6c31c2ad-bacf-444e-aa47-7065ea06d59e",
   "metadata": {},
   "source": [
    "### Day"
   ]
  },
  {
   "cell_type": "code",
   "execution_count": 226,
   "id": "f1a8e5f7-a94a-4a23-832a-7f7afda6529f",
   "metadata": {},
   "outputs": [
    {
     "data": {
      "text/plain": [
       "[<matplotlib.lines.Line2D at 0x7fe736ed7f40>]"
      ]
     },
     "execution_count": 226,
     "metadata": {},
     "output_type": "execute_result"
    },
    {
     "data": {
      "image/png": "[encoded data removed]",
      "text/plain": [
       "<Figure size 648x432 with 1 Axes>"
      ]
     },
     "metadata": {
      "needs_background": "light"
     },
     "output_type": "display_data"
    }
   ],
   "source": [
    "_, ax = plt.subplots(figsize=(9, 6))\n",
    "ax.plot(IDF[IDF['valeurfonc'] <= 1000000].groupby('day').mean()['valeurfonc'])"
   ]
  },
  {
   "cell_type": "code",
   "execution_count": 239,
   "id": "15ff0b86-5cd5-4418-b27a-637dd27f0178",
   "metadata": {},
   "outputs": [
    {
     "data": {
      "text/plain": [
       "[<matplotlib.lines.Line2D at 0x7fe755ae9e80>]"
      ]
     },
     "execution_count": 239,
     "metadata": {},
     "output_type": "execute_result"
    },
    {
     "data": {
      "image/png": "[encoded data removed]",
      "text/plain": [
       "<Figure size 648x432 with 1 Axes>"
      ]
     },
     "metadata": {
      "needs_background": "light"
     },
     "output_type": "display_data"
    }
   ],
   "source": [
    "_, ax = plt.subplots(figsize=(9, 6))\n",
    "ax.plot(IDF[IDF['valeurfonc'] >= 1000000].groupby('day').mean()['valeurfonc'])"
   ]
  },
  {
   "cell_type": "code",
   "execution_count": 236,
   "id": "53fa7ad7-6cb0-40dc-8f05-81fa63ad8cff",
   "metadata": {},
   "outputs": [
    {
     "data": {
      "text/plain": [
       "[<matplotlib.lines.Line2D at 0x7fe748816070>]"
      ]
     },
     "execution_count": 236,
     "metadata": {},
     "output_type": "execute_result"
    },
    {
     "data": {
      "image/png": "[encoded data removed]",
      "text/plain": [
       "<Figure size 648x432 with 1 Axes>"
      ]
     },
     "metadata": {
      "needs_background": "light"
     },
     "output_type": "display_data"
    }
   ],
   "source": [
    "_, ax = plt.subplots(figsize=(9, 6))\n",
    "ax.plot(IDF.groupby('day').mean()['valeurfonc'])"
   ]
  },
  {
   "cell_type": "markdown",
   "id": "5fd8e3e4-b19c-42da-b3f4-1516def3e0cd",
   "metadata": {},
   "source": [
    "### Month"
   ]
  },
  {
   "cell_type": "code",
   "execution_count": 234,
   "id": "df34d602-0811-49a9-80f7-5e7735b3d1c5",
   "metadata": {},
   "outputs": [
    {
     "data": {
      "text/plain": [
       "[<matplotlib.lines.Line2D at 0x7fe750b19880>]"
      ]
     },
     "execution_count": 234,
     "metadata": {},
     "output_type": "execute_result"
    },
    {
     "data": {
      "image/png": "[encoded data removed]",
      "text/plain": [
       "<Figure size 648x432 with 1 Axes>"
      ]
     },
     "metadata": {
      "needs_background": "light"
     },
     "output_type": "display_data"
    }
   ],
   "source": [
    "_, ax = plt.subplots(figsize=(9, 6))\n",
    "ax.plot(IDF[IDF['valeurfonc'] <= 1000000].groupby('month').mean()['valeurfonc'])"
   ]
  },
  {
   "cell_type": "code",
   "execution_count": 238,
   "id": "b83f247d-49bc-41c0-bbae-d9ed25f46386",
   "metadata": {},
   "outputs": [
    {
     "data": {
      "text/plain": [
       "[<matplotlib.lines.Line2D at 0x7fe748809fa0>]"
      ]
     },
     "execution_count": 238,
     "metadata": {},
     "output_type": "execute_result"
    },
    {
     "data": {
      "image/png": "[encoded data removed]",
      "text/plain": [
       "<Figure size 648x432 with 1 Axes>"
      ]
     },
     "metadata": {
      "needs_background": "light"
     },
     "output_type": "display_data"
    }
   ],
   "source": [
    "_, ax = plt.subplots(figsize=(9, 6))\n",
    "ax.plot(IDF[IDF['valeurfonc'] >= 1000000].groupby('month').mean()['valeurfonc'])"
   ]
  },
  {
   "cell_type": "code",
   "execution_count": 235,
   "id": "90570450-d1dd-493c-9f16-20efeedb35c3",
   "metadata": {},
   "outputs": [
    {
     "data": {
      "text/plain": [
       "[<matplotlib.lines.Line2D at 0x7fe75802ae50>]"
      ]
     },
     "execution_count": 235,
     "metadata": {},
     "output_type": "execute_result"
    },
    {
     "data": {
      "image/png": "[encoded data removed]",
      "text/plain": [
       "<Figure size 648x432 with 1 Axes>"
      ]
     },
     "metadata": {
      "needs_background": "light"
     },
     "output_type": "display_data"
    }
   ],
   "source": [
    "_, ax = plt.subplots(figsize=(9, 6))\n",
    "ax.plot(IDF.groupby('month').mean()['valeurfonc'])"
   ]
  },
  {
   "cell_type": "markdown",
   "id": "d8c1ca4d-bbe0-421b-87ac-f2713711cf1a",
   "metadata": {},
   "source": [
    "### Year"
   ]
  },
  {
   "cell_type": "code",
   "execution_count": 225,
   "id": "8d8681a5-f477-44a6-8a42-b5d918df9693",
   "metadata": {},
   "outputs": [
    {
     "data": {
      "text/plain": [
       "[<matplotlib.lines.Line2D at 0x7fe747a34790>]"
      ]
     },
     "execution_count": 225,
     "metadata": {},
     "output_type": "execute_result"
    },
    {
     "data": {
      "image/png": "[encoded data removed]",
      "text/plain": [
       "<Figure size 648x432 with 1 Axes>"
      ]
     },
     "metadata": {
      "needs_background": "light"
     },
     "output_type": "display_data"
    }
   ],
   "source": [
    "_, ax = plt.subplots(figsize=(9, 6))\n",
    "ax.plot(IDF[IDF['valeurfonc'] <= 1000000].groupby('year').mean()['valeurfonc'])"
   ]
  },
  {
   "cell_type": "code",
   "execution_count": 251,
   "id": "f60310b9-00f2-4711-80a8-ce737de6ffd3",
   "metadata": {},
   "outputs": [
    {
     "data": {
      "text/plain": [
       "[<matplotlib.lines.Line2D at 0x7fe7d31e7cd0>]"
      ]
     },
     "execution_count": 251,
     "metadata": {},
     "output_type": "execute_result"
    },
    {
     "data": {
      "image/png": "[encoded data removed]",
      "text/plain": [
       "<Figure size 648x432 with 1 Axes>"
      ]
     },
     "metadata": {
      "needs_background": "light"
     },
     "output_type": "display_data"
    }
   ],
   "source": [
    "_, ax = plt.subplots(figsize=(9, 6))\n",
    "ax.plot(IDF[(IDF['valeurfonc'] >= 1000000) & (IDF['valeurfonc'] <= 100000000)].groupby('year').mean()['valeurfonc'])"
   ]
  },
  {
   "cell_type": "code",
   "execution_count": 237,
   "id": "00c3b2eb-5f6f-4721-a2ab-c63c50e1c608",
   "metadata": {},
   "outputs": [
    {
     "data": {
      "text/plain": [
       "[<matplotlib.lines.Line2D at 0x7fe71d1c9a00>]"
      ]
     },
     "execution_count": 237,
     "metadata": {},
     "output_type": "execute_result"
    },
    {
     "data": {
      "image/png": "[encoded data removed]",
      "text/plain": [
       "<Figure size 648x432 with 1 Axes>"
      ]
     },
     "metadata": {
      "needs_background": "light"
     },
     "output_type": "display_data"
    }
   ],
   "source": [
    "_, ax = plt.subplots(figsize=(9, 6))\n",
    "ax.plot(IDF.groupby('year').mean()['valeurfonc'])"
   ]
  },
  {
   "cell_type": "code",
   "execution_count": 242,
   "id": "754e1062-137f-435e-a964-4819399b6b6c",
   "metadata": {},
   "outputs": [
    {
     "data": {
      "text/plain": [
       "[<matplotlib.lines.Line2D at 0x7fe74e3554f0>]"
      ]
     },
     "execution_count": 242,
     "metadata": {},
     "output_type": "execute_result"
    },
    {
     "data": {
      "image/png": "[encoded data removed]",
      "text/plain": [
       "<Figure size 1296x864 with 1 Axes>"
      ]
     },
     "metadata": {
      "needs_background": "light"
     },
     "output_type": "display_data"
    }
   ],
   "source": [
    "_, ax = plt.subplots(figsize=(18, 12))\n",
    "ax.plot(IDF[IDF['valeurfonc'] <= 1000000].groupby('day_month').mean()['valeurfonc'])"
   ]
  },
  {
   "cell_type": "code",
   "execution_count": 253,
   "id": "f45965e2-f6e0-4f49-a092-aff960307dd4",
   "metadata": {},
   "outputs": [
    {
     "data": {
      "text/html": [
       "<div>\n",
       "<style scoped>\n",
       "    .dataframe tbody tr th:only-of-type {\n",
       "        vertical-align: middle;\n",
       "    }\n",
       "\n",
       "    .dataframe tbody tr th {\n",
       "        vertical-align: top;\n",
       "    }\n",
       "\n",
       "    .dataframe thead th {\n",
       "        text-align: right;\n",
       "    }\n",
       "</style>\n",
       "<table border=\"1\" class=\"dataframe\">\n",
       "  <thead>\n",
       "    <tr style=\"text-align: right;\">\n",
       "      <th></th>\n",
       "      <th>idmutation</th>\n",
       "      <th>idmutinvar</th>\n",
       "      <th>idopendata</th>\n",
       "      <th>idnatmut</th>\n",
       "      <th>codservch</th>\n",
       "      <th>refdoc</th>\n",
       "      <th>datemut</th>\n",
       "      <th>libnatmut</th>\n",
       "      <th>valeurfonc</th>\n",
       "      <th>nbdispo</th>\n",
       "      <th>...</th>\n",
       "      <th>codtypbien</th>\n",
       "      <th>libtypbien</th>\n",
       "      <th>latitude</th>\n",
       "      <th>longitude</th>\n",
       "      <th>Dept</th>\n",
       "      <th>day</th>\n",
       "      <th>weekday</th>\n",
       "      <th>month</th>\n",
       "      <th>year</th>\n",
       "      <th>day_month</th>\n",
       "    </tr>\n",
       "  </thead>\n",
       "  <tbody>\n",
       "    <tr>\n",
       "      <th>0</th>\n",
       "      <td>6539278.0</td>\n",
       "      <td>9b7b4d9b9700ca770f3f498b5d69eaf3</td>\n",
       "      <td>9b7b4d9b9700ca770f3f498b5d69eaf3</td>\n",
       "      <td>1.0</td>\n",
       "      <td>NaN</td>\n",
       "      <td>NaN</td>\n",
       "      <td>2018-04-06</td>\n",
       "      <td>Vente</td>\n",
       "      <td>650340.0</td>\n",
       "      <td>1.0</td>\n",
       "      <td>...</td>\n",
       "      <td>121.0</td>\n",
       "      <td>UN APPARTEMENT</td>\n",
       "      <td>48.868229</td>\n",
       "      <td>2.347402</td>\n",
       "      <td>75</td>\n",
       "      <td>6</td>\n",
       "      <td>4</td>\n",
       "      <td>4</td>\n",
       "      <td>2018</td>\n",
       "      <td>2000-03-23</td>\n",
       "    </tr>\n",
       "    <tr>\n",
       "      <th>1</th>\n",
       "      <td>6660956.0</td>\n",
       "      <td>3c49a78206ac11f9695bad48967f898e</td>\n",
       "      <td>3c49a78206ac11f9695bad48967f898e</td>\n",
       "      <td>1.0</td>\n",
       "      <td>NaN</td>\n",
       "      <td>NaN</td>\n",
       "      <td>2017-07-06</td>\n",
       "      <td>Vente</td>\n",
       "      <td>380000.0</td>\n",
       "      <td>1.0</td>\n",
       "      <td>...</td>\n",
       "      <td>121.0</td>\n",
       "      <td>UN APPARTEMENT</td>\n",
       "      <td>48.866863</td>\n",
       "      <td>2.374773</td>\n",
       "      <td>75</td>\n",
       "      <td>6</td>\n",
       "      <td>3</td>\n",
       "      <td>7</td>\n",
       "      <td>2017</td>\n",
       "      <td>2000-12-19</td>\n",
       "    </tr>\n",
       "    <tr>\n",
       "      <th>2</th>\n",
       "      <td>6374603.0</td>\n",
       "      <td>43db5a7809b243060479e1bca9def379</td>\n",
       "      <td>43db5a7809b243060479e1bca9def379</td>\n",
       "      <td>1.0</td>\n",
       "      <td>NaN</td>\n",
       "      <td>NaN</td>\n",
       "      <td>2019-07-18</td>\n",
       "      <td>Vente</td>\n",
       "      <td>105000.0</td>\n",
       "      <td>1.0</td>\n",
       "      <td>...</td>\n",
       "      <td>131.0</td>\n",
       "      <td>UNE DEPENDANCE</td>\n",
       "      <td>48.866879</td>\n",
       "      <td>2.369324</td>\n",
       "      <td>75</td>\n",
       "      <td>18</td>\n",
       "      <td>3</td>\n",
       "      <td>7</td>\n",
       "      <td>2019</td>\n",
       "      <td>2000-07-27</td>\n",
       "    </tr>\n",
       "    <tr>\n",
       "      <th>3</th>\n",
       "      <td>6393753.0</td>\n",
       "      <td>7bba166c612dfbd6c0694a2ab3209bab</td>\n",
       "      <td>7bba166c612dfbd6c0694a2ab3209bab</td>\n",
       "      <td>1.0</td>\n",
       "      <td>NaN</td>\n",
       "      <td>NaN</td>\n",
       "      <td>2019-05-16</td>\n",
       "      <td>Vente</td>\n",
       "      <td>415000.0</td>\n",
       "      <td>1.0</td>\n",
       "      <td>...</td>\n",
       "      <td>14.0</td>\n",
       "      <td>ACTIVITE</td>\n",
       "      <td>48.856434</td>\n",
       "      <td>2.357901</td>\n",
       "      <td>75</td>\n",
       "      <td>16</td>\n",
       "      <td>3</td>\n",
       "      <td>5</td>\n",
       "      <td>2019</td>\n",
       "      <td>2000-12-30</td>\n",
       "    </tr>\n",
       "    <tr>\n",
       "      <th>4</th>\n",
       "      <td>7090098.0</td>\n",
       "      <td>24b9ace5aaea518ba15bd43c0ffc6141</td>\n",
       "      <td>24b9ace5aaea518ba15bd43c0ffc6141</td>\n",
       "      <td>1.0</td>\n",
       "      <td>NaN</td>\n",
       "      <td>NaN</td>\n",
       "      <td>2014-05-14</td>\n",
       "      <td>Vente</td>\n",
       "      <td>90000.0</td>\n",
       "      <td>1.0</td>\n",
       "      <td>...</td>\n",
       "      <td>131.0</td>\n",
       "      <td>UNE DEPENDANCE</td>\n",
       "      <td>48.873301</td>\n",
       "      <td>2.303682</td>\n",
       "      <td>75</td>\n",
       "      <td>14</td>\n",
       "      <td>2</td>\n",
       "      <td>5</td>\n",
       "      <td>2014</td>\n",
       "      <td>2000-07-15</td>\n",
       "    </tr>\n",
       "  </tbody>\n",
       "</table>\n",
       "<p>5 rows × 62 columns</p>\n",
       "</div>"
      ],
      "text/plain": [
       "   idmutation                        idmutinvar  \\\n",
       "0   6539278.0  9b7b4d9b9700ca770f3f498b5d69eaf3   \n",
       "1   6660956.0  3c49a78206ac11f9695bad48967f898e   \n",
       "2   6374603.0  43db5a7809b243060479e1bca9def379   \n",
       "3   6393753.0  7bba166c612dfbd6c0694a2ab3209bab   \n",
       "4   7090098.0  24b9ace5aaea518ba15bd43c0ffc6141   \n",
       "\n",
       "                         idopendata  idnatmut  codservch  refdoc    datemut  \\\n",
       "0  9b7b4d9b9700ca770f3f498b5d69eaf3       1.0        NaN     NaN 2018-04-06   \n",
       "1  3c49a78206ac11f9695bad48967f898e       1.0        NaN     NaN 2017-07-06   \n",
       "2  43db5a7809b243060479e1bca9def379       1.0        NaN     NaN 2019-07-18   \n",
       "3  7bba166c612dfbd6c0694a2ab3209bab       1.0        NaN     NaN 2019-05-16   \n",
       "4  24b9ace5aaea518ba15bd43c0ffc6141       1.0        NaN     NaN 2014-05-14   \n",
       "\n",
       "  libnatmut  valeurfonc  nbdispo  ...  codtypbien      libtypbien   latitude  \\\n",
       "0     Vente    650340.0      1.0  ...       121.0  UN APPARTEMENT  48.868229   \n",
       "1     Vente    380000.0      1.0  ...       121.0  UN APPARTEMENT  48.866863   \n",
       "2     Vente    105000.0      1.0  ...       131.0  UNE DEPENDANCE  48.866879   \n",
       "3     Vente    415000.0      1.0  ...        14.0        ACTIVITE  48.856434   \n",
       "4     Vente     90000.0      1.0  ...       131.0  UNE DEPENDANCE  48.873301   \n",
       "\n",
       "   longitude Dept  day weekday  month  year  day_month  \n",
       "0   2.347402   75    6       4      4  2018 2000-03-23  \n",
       "1   2.374773   75    6       3      7  2017 2000-12-19  \n",
       "2   2.369324   75   18       3      7  2019 2000-07-27  \n",
       "3   2.357901   75   16       3      5  2019 2000-12-30  \n",
       "4   2.303682   75   14       2      5  2014 2000-07-15  \n",
       "\n",
       "[5 rows x 62 columns]"
      ]
     },
     "execution_count": 253,
     "metadata": {},
     "output_type": "execute_result"
    }
   ],
   "source": [
    "IDF[IDF['valeurfonc'] <= 1000000].head()"
   ]
  },
  {
   "cell_type": "code",
   "execution_count": 254,
   "id": "85dda4d9-33bd-4c6b-8194-3c06a542d85a",
   "metadata": {},
   "outputs": [
    {
     "data": {
      "text/plain": [
       "323653847595.1499"
      ]
     },
     "execution_count": 254,
     "metadata": {},
     "output_type": "execute_result"
    }
   ],
   "source": [
    "IDF[IDF['valeurfonc'] <= 1000000]['valeurfonc'].sum()"
   ]
  },
  {
   "cell_type": "code",
   "execution_count": 256,
   "id": "191e232a-1434-4e02-bbfe-7fc435b2010f",
   "metadata": {},
   "outputs": [
    {
     "data": {
      "text/plain": [
       "1227771"
      ]
     },
     "execution_count": 256,
     "metadata": {},
     "output_type": "execute_result"
    }
   ],
   "source": [
    "IDF[IDF['valeurfonc'] <= 1000000]['valeurfonc'].shape[0]"
   ]
  },
  {
   "cell_type": "code",
   "execution_count": 255,
   "id": "d3dad436-01d1-4efa-b54c-4502d373ddd7",
   "metadata": {},
   "outputs": [
    {
     "data": {
      "text/plain": [
       "185287441773.51"
      ]
     },
     "execution_count": 255,
     "metadata": {},
     "output_type": "execute_result"
    }
   ],
   "source": [
    "IDF[IDF['valeurfonc'] >= 1000000]['valeurfonc'].sum()"
   ]
  },
  {
   "cell_type": "code",
   "execution_count": 258,
   "id": "526f003b-b071-4acd-a3b9-502de520fd93",
   "metadata": {},
   "outputs": [
    {
     "data": {
      "text/plain": [
       "43561"
      ]
     },
     "execution_count": 258,
     "metadata": {},
     "output_type": "execute_result"
    }
   ],
   "source": [
    "IDF[(IDF['valeurfonc'] >= 1000000) & (IDF['valeurfonc'] <= 100000000)]['valeurfonc'].shape[0]"
   ]
  },
  {
   "cell_type": "code",
   "execution_count": null,
   "id": "edc3e55c-4af0-4b14-a06e-3c7f67da6617",
   "metadata": {},
   "outputs": [],
   "source": [
    "_, ax = plt.subplots(figsize=(9, 6))\n",
    "ax.bar(IDF['valeurfonc'], 1)"
   ]
  },
  {
   "cell_type": "code",
   "execution_count": null,
   "id": "e24f7054-b194-45ce-8efd-fb51ac043e7f",
   "metadata": {},
   "outputs": [],
   "source": []
  }
 ],
 "metadata": {
  "kernelspec": {
   "display_name": "Python 3 (ipykernel)",
   "language": "python",
   "name": "python3"
  },
  "language_info": {
   "codemirror_mode": {
    "name": "ipython",
    "version": 3
   },
   "file_extension": ".py",
   "mimetype": "text/x-python",
   "name": "python",
   "nbconvert_exporter": "python",
   "pygments_lexer": "ipython3",
   "version": "3.8.2"
  }
 },
 "nbformat": 4,
 "nbformat_minor": 5
}
