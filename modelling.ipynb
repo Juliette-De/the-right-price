{
 "cells": [
  {
   "cell_type": "code",
   "execution_count": 5,
   "id": "8b143586-6ad7-4fa4-821f-3456dce3e947",
   "metadata": {},
   "outputs": [],
   "source": [
    "import pandas as pd\n",
    "import numpy as np\n",
    "import os\n",
    "\n",
    "from sklearn.preprocessing import MinMaxScaler\n",
    "import sklearn\n",
    "from sklearn.metrics import mean_squared_error, r2_score\n",
    "from xgboost import XGBRegressor\n",
    "from sklearn.model_selection import train_test_split\n",
    "from sklearn.preprocessing import StandardScaler\n",
    "\n",
    "import joblib\n",
    "\n",
    "def sort_csv_files(folder_path):\n",
    "    files = [f for f in os.listdir(folder_path) if f.endswith('.csv')]\n",
    "    dfs = []\n",
    "    for file in files:\n",
    "        df = pd.read_csv(os.path.join(folder_path, file))\n",
    "        dfs.append(df)\n",
    "    return pd.concat(dfs, ignore_index=True)\n",
    "\n",
    "def filter_valfonc(df):\n",
    "    mutation = df\n",
    "    mutation = mutation[~mutation[\"valeurfonc\"].isna()]\n",
    "    mutation = mutation[mutation[\"valeurfonc\"] >= 1000]\n",
    "    mutation = mutation[mutation[\"valeurfonc\"] <= 1000000]\n",
    "    return mutation\n",
    "\n",
    "def add_arrondissement(df):\n",
    "    n_col = df[\"l_codinsee\"].apply(lambda s: s[-4:-2] if s[2:4]==\"75\" else 0)\n",
    "    #n_col = n_col.rename(\"arro\")\n",
    "    df[\"arro\"] = n_col.astype(\"int\")\n",
    "\n",
    "def sum_surface(df):\n",
    "    df[\"surf\"] = (df[\"sbati\"] \n",
    "                  + df[\"sbatmai\"] \n",
    "                  + df[\"sbatapt\"]\n",
    "                  + df[\"sbatact\"])\n",
    "    \n",
    "def min_max_scale(df):\n",
    "    scaler = StandardScaler()\n",
    "    df['valeurfonc'] = scaler.fit_transform(df['valeurfonc'].values.reshape(-1, 1))\n",
    "\n",
    "def X_y_split(df):\n",
    "    features = [\"anneemut\", \"moismut\", \"nblot\", \"sterr\", \"nbvolmut\", \"nblocmut\",\n",
    "                \"nblocmai\", \"nblocapt\", \"nblocdep\", \"nblocact\", \"latitude\", \"longitude\",\n",
    "                \"arro\", \"surf\"\n",
    "               ]\n",
    "    X = df[features]\n",
    "    y = df[\"valeurfonc\"]\n",
    "    return X, y\n",
    "\n",
    "def training(X_train, Y_train):  \n",
    "    xgboost = XGBRegressor()\n",
    "    xgboost.fit(X_train, Y_train)\n",
    "\n",
    "def predict(X_test):\n",
    "    y_pred = xgboost.predict(X_test)\n",
    "    return y_pred\n",
    "\n",
    "def save_model(pkl_file_path):\n",
    "    joblib.dump(xgboost, pkl_file_path)\n",
    "    \n",
    "def load_model(pkl_file_path):\n",
    "    xgboost = joblib.load(pkl_file_path)\n",
    "    return xgboost"
   ]
  },
  {
   "cell_type": "code",
   "execution_count": 6,
   "id": "2601c708-9731-4dea-9fb6-60fb594d00e7",
   "metadata": {},
   "outputs": [
    {
     "name": "stderr",
     "output_type": "stream",
     "text": [
      "/var/folders/s5/c05fkgj90cz2t3tmp495bdfc0000gn/T/ipykernel_64983/2506388647.py:6: DtypeWarning: Columns (60) have mixed types.Specify dtype option on import or set low_memory=False.\n",
      "  df_1 = sort_csv_files(path)\n"
     ]
    }
   ],
   "source": [
    "from time import time\n",
    "\n",
    "start = time()\n",
    "\n",
    "path = \"data_right_price/data_localisee/\"\n",
    "df_1 = sort_csv_files(path)\n",
    "mutation = filter_valfonc(df_1)\n",
    "add_arrondissement(mutation)\n",
    "sum_surface(mutation)\n",
    "min_max_scale(mutation)\n",
    "X, y = X_y_split(mutation)\n",
    "X_train, X_test, Y_train, Y_test = train_test_split(X, y, test_size = 0.2, random_state = 100)"
   ]
  },
  {
   "cell_type": "code",
   "execution_count": 7,
   "id": "4db99841-bc75-4584-90ca-f3b451224c3a",
   "metadata": {},
   "outputs": [
    {
     "ename": "NameError",
     "evalue": "name 'xgboost' is not defined",
     "output_type": "error",
     "traceback": [
      "\u001b[0;31m---------------------------------------------------------------------------\u001b[0m",
      "\u001b[0;31mNameError\u001b[0m                                 Traceback (most recent call last)",
      "\u001b[0;32m/var/folders/s5/c05fkgj90cz2t3tmp495bdfc0000gn/T/ipykernel_64983/309075892.py\u001b[0m in \u001b[0;36m<module>\u001b[0;34m\u001b[0m\n\u001b[1;32m      1\u001b[0m \u001b[0mtraining\u001b[0m\u001b[0;34m(\u001b[0m\u001b[0mX_train\u001b[0m\u001b[0;34m,\u001b[0m \u001b[0mY_train\u001b[0m\u001b[0;34m)\u001b[0m\u001b[0;34m\u001b[0m\u001b[0;34m\u001b[0m\u001b[0m\n\u001b[0;32m----> 2\u001b[0;31m \u001b[0my_pred\u001b[0m \u001b[0;34m=\u001b[0m \u001b[0mpredict\u001b[0m\u001b[0;34m(\u001b[0m\u001b[0mX_test\u001b[0m\u001b[0;34m)\u001b[0m\u001b[0;34m\u001b[0m\u001b[0;34m\u001b[0m\u001b[0m\n\u001b[0m\u001b[1;32m      3\u001b[0m \u001b[0;34m\u001b[0m\u001b[0m\n\u001b[1;32m      4\u001b[0m \u001b[0mprint\u001b[0m\u001b[0;34m(\u001b[0m\u001b[0;34mf\"{round(time()-start, 2)}sec\"\u001b[0m\u001b[0;34m)\u001b[0m\u001b[0;34m\u001b[0m\u001b[0;34m\u001b[0m\u001b[0m\n",
      "\u001b[0;32m/var/folders/s5/c05fkgj90cz2t3tmp495bdfc0000gn/T/ipykernel_64983/3102995509.py\u001b[0m in \u001b[0;36mpredict\u001b[0;34m(X_test)\u001b[0m\n\u001b[1;32m     56\u001b[0m \u001b[0;34m\u001b[0m\u001b[0m\n\u001b[1;32m     57\u001b[0m \u001b[0;32mdef\u001b[0m \u001b[0mpredict\u001b[0m\u001b[0;34m(\u001b[0m\u001b[0mX_test\u001b[0m\u001b[0;34m)\u001b[0m\u001b[0;34m:\u001b[0m\u001b[0;34m\u001b[0m\u001b[0;34m\u001b[0m\u001b[0m\n\u001b[0;32m---> 58\u001b[0;31m     \u001b[0my_pred\u001b[0m \u001b[0;34m=\u001b[0m \u001b[0mxgboost\u001b[0m\u001b[0;34m.\u001b[0m\u001b[0mpredict\u001b[0m\u001b[0;34m(\u001b[0m\u001b[0mX_test\u001b[0m\u001b[0;34m)\u001b[0m\u001b[0;34m\u001b[0m\u001b[0;34m\u001b[0m\u001b[0m\n\u001b[0m\u001b[1;32m     59\u001b[0m     \u001b[0;32mreturn\u001b[0m \u001b[0my_pred\u001b[0m\u001b[0;34m\u001b[0m\u001b[0;34m\u001b[0m\u001b[0m\n\u001b[1;32m     60\u001b[0m \u001b[0;34m\u001b[0m\u001b[0m\n",
      "\u001b[0;31mNameError\u001b[0m: name 'xgboost' is not defined"
     ]
    }
   ],
   "source": [
    "training(X_train, Y_train)\n",
    "y_pred = predict(X_test)\n",
    "\n",
    "print(f\"{round(time()-start, 2)}sec\")"
   ]
  },
  {
   "cell_type": "code",
   "execution_count": null,
   "id": "b305cde5-f2ce-414a-ac03-be4fc5fb1a4e",
   "metadata": {},
   "outputs": [],
   "source": []
  }
 ],
 "metadata": {
  "kernelspec": {
   "display_name": "Python 3 (ipykernel)",
   "language": "python",
   "name": "python3"
  },
  "language_info": {
   "codemirror_mode": {
    "name": "ipython",
    "version": 3
   },
   "file_extension": ".py",
   "mimetype": "text/x-python",
   "name": "python",
   "nbconvert_exporter": "python",
   "pygments_lexer": "ipython3",
   "version": "3.8.2"
  }
 },
 "nbformat": 4,
 "nbformat_minor": 5
}
