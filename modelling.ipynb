{
 "cells": [
  {
   "cell_type": "code",
   "execution_count": 42,
   "id": "8b143586-6ad7-4fa4-821f-3456dce3e947",
   "metadata": {},
   "outputs": [],
   "source": [
    "import pandas as pd\n",
    "import numpy as np\n",
    "import os\n",
    "\n",
    "from sklearn.preprocessing import MinMaxScaler\n",
    "import sklearn\n",
    "from sklearn.metrics import mean_squared_error, r2_score, mean_absolute_error\n",
    "from xgboost import XGBRegressor\n",
    "from sklearn.model_selection import train_test_split\n",
    "from sklearn.preprocessing import StandardScaler\n",
    "\n",
    "import joblib\n",
    "\n",
    "def sort_csv_files(folder_path):\n",
    "    files = [f for f in os.listdir(folder_path) if f.endswith('.csv')]\n",
    "    dfs = []\n",
    "    for file in files:\n",
    "        df = pd.read_csv(os.path.join(folder_path, file), low_memory=False)\n",
    "        dfs.append(df)\n",
    "    return pd.concat(dfs, ignore_index=True)\n",
    "\n",
    "def filter_valfonc(df):\n",
    "    mutation = df\n",
    "    mutation = mutation[~mutation[\"valeurfonc\"].isna()]\n",
    "    mutation = mutation[mutation[\"valeurfonc\"] >= 1000]\n",
    "    mutation = mutation[mutation[\"valeurfonc\"] <= 1000000]\n",
    "    return mutation\n",
    "\n",
    "def add_arrondissement(df):\n",
    "    n_col = df[\"l_codinsee\"].apply(lambda s: s[-4:-2] if s[2:4]==\"75\" else 0)\n",
    "    #n_col = n_col.rename(\"arro\")\n",
    "    df[\"arro\"] = n_col.astype(\"int\")\n",
    "\n",
    "def sum_surface(df):\n",
    "    df[\"surf\"] = (df[\"sbati\"] \n",
    "                  + df[\"sbatmai\"] \n",
    "                  + df[\"sbatapt\"]\n",
    "                  + df[\"sbatact\"])\n",
    "\n",
    "def create_min_max_scaler():\n",
    "    scaler = StandardScaler()\n",
    "    return scaler\n",
    "    \n",
    "def min_max_scale(df, scaler):\n",
    "    df['valeurfonc'] = scaler.fit_transform(df['valeurfonc'].values.reshape(-1, 1))\n",
    "    \n",
    "def min_max_rescale(Series, scaler):\n",
    "    Series = scaler.inverse_transform(Series.reshape(-1, 1))\n",
    "    return Series\n",
    "\n",
    "def X_y_split(df):\n",
    "    features = [\"anneemut\", \"moismut\", \"nblot\", \"sterr\", \"nbvolmut\", \"nblocmut\",\n",
    "                \"nblocmai\", \"nblocapt\", \"nblocdep\", \"nblocact\", \"latitude\", \"longitude\",\n",
    "                \"arro\", \"surf\"\n",
    "               ]\n",
    "    X = df[features]\n",
    "    y = df[\"valeurfonc\"]\n",
    "    return X, y\n",
    "\n",
    "def training(X_train, Y_train, save=False, pkl_file_path=None): \n",
    "    from xgboost import XGBRegressor\n",
    "    xgboost = XGBRegressor()\n",
    "    xgboost.fit(X_train, Y_train)\n",
    "    if save:\n",
    "        joblib.dump(xgboost, pkl_file_path)\n",
    "    return xgboost\n",
    "\n",
    "def predict(xgboost, X_test):\n",
    "    y_pred = xgboost.predict(X_test)\n",
    "    return y_pred\n",
    "\n",
    "def save_model(pkl_file_path):\n",
    "    joblib.dump(xgboost, pkl_file_path)\n",
    "    \n",
    "def load_model(pkl_file_path):\n",
    "    xgboost = joblib.load(pkl_file_path)\n",
    "    return xgboost\n",
    "\n",
    "# Let's define a function for each metrics\n",
    "# R²\n",
    "def rsqr_score(test, pred):\n",
    "    \"\"\"Calculate Root Mean Square Error score \n",
    "\n",
    "    Args:\n",
    "        test -- test data\n",
    "        pred -- predicted data\n",
    "\n",
    "    Returns:\n",
    "        Root Mean Square Error score\n",
    "    \"\"\"\n",
    "    rsqr_ = r2_score(test, pred)\n",
    "    return rsqr_\n",
    "\n",
    "def rmse_score(test, pred):\n",
    "    \"\"\"Calculate Root Mean Square Error score \n",
    "\n",
    "    Args:\n",
    "        test -- test data\n",
    "        pred -- predicted data\n",
    "\n",
    "    Returns:\n",
    "        Root Mean Square Error score\n",
    "    \"\"\"\n",
    "    rmse_ = np.sqrt(mean_squared_error(test, pred))\n",
    "    return rmse_\n",
    "\n",
    "def mse_score(test, pred):\n",
    "    \"\"\"Calculate Root Mean Square Error score \n",
    "\n",
    "    Args:\n",
    "        test -- test data\n",
    "        pred -- predicted data\n",
    "\n",
    "    Returns:\n",
    "        Root Mean Square Error score\n",
    "    \"\"\"\n",
    "    mse_ = mean_squared_error(test, pred)\n",
    "    return mse_\n",
    "\n",
    "def mae_score(test, pred):\n",
    "    \"\"\"Calculate Mean Absolute Error score \n",
    "\n",
    "    Args:\n",
    "        test -- test data\n",
    "        pred -- predicted data\n",
    "\n",
    "    Returns:\n",
    "        Mean Absolute Error score\n",
    "    \"\"\"\n",
    "    mae_ = mean_absolute_error(test, pred)\n",
    "    return mae_\n",
    "\n",
    "# Print the scores\n",
    "def print_score(test, pred):\n",
    "    \"\"\"Print calculated score \n",
    "\n",
    "    Args:\n",
    "        test -- test data\n",
    "        pred -- predicted data\n",
    "\n",
    "    Returns:\n",
    "        print the R squared score\n",
    "        print Root Mean Square Error score\n",
    "        print Mean Square Error score\n",
    "        print Mean Absolute Error score\n",
    "    \"\"\"\n",
    "\n",
    "    print(f\"R²: {rsqr_score(test, pred)}\")\n",
    "    print(f\"RMSE: {rmse_score(test, pred)}\")\n",
    "    print(f\"MSE: {mse_score(test, pred)}\")\n",
    "    print(f\"MAE: {mae_score(test, pred)}\")"
   ]
  },
  {
   "cell_type": "code",
   "execution_count": 5,
   "id": "2601c708-9731-4dea-9fb6-60fb594d00e7",
   "metadata": {},
   "outputs": [
    {
     "name": "stderr",
     "output_type": "stream",
     "text": [
      "/var/folders/s5/c05fkgj90cz2t3tmp495bdfc0000gn/T/ipykernel_68863/1698771504.py:6: DtypeWarning: Columns (60) have mixed types.Specify dtype option on import or set low_memory=False.\n",
      "  df_1 = sort_csv_files(path)\n"
     ]
    }
   ],
   "source": [
    "from time import time\n",
    "\n",
    "start = time()\n",
    "\n",
    "path = \"data_right_price/data_localisee/\"\n",
    "df_1 = sort_csv_files(path)\n",
    "mutation = filter_valfonc(df_1)\n",
    "add_arrondissement(mutation)\n",
    "sum_surface(mutation)\n",
    "scaler = create_min_max_scaler()\n",
    "min_max_scale(mutation, scaler)\n",
    "X, y = X_y_split(mutation)\n",
    "X_train, X_test, Y_train, Y_test = train_test_split(X, y, test_size = 0.2, random_state = 100)"
   ]
  },
  {
   "cell_type": "code",
   "execution_count": 11,
   "id": "4db99841-bc75-4584-90ca-f3b451224c3a",
   "metadata": {},
   "outputs": [
    {
     "name": "stdout",
     "output_type": "stream",
     "text": [
      "478.48sec\n"
     ]
    }
   ],
   "source": [
    "xgboost = training(X_train, Y_train)\n",
    "y_pred = predict(xgboost, X_test)\n",
    "\n",
    "print(f\"{round(time()-start, 2)}sec\")"
   ]
  },
  {
   "cell_type": "code",
   "execution_count": 36,
   "id": "317c424c-a6f0-4675-a922-ad725df1aeaf",
   "metadata": {},
   "outputs": [],
   "source": [
    "def min_max_rescale(Series, scaler):\n",
    "    Series = scaler.inverse_transform(Series.reshape(-1, 1))\n",
    "    return Series"
   ]
  },
  {
   "cell_type": "code",
   "execution_count": 34,
   "id": "5257a0d6-5a06-4c91-b019-c777a192587c",
   "metadata": {},
   "outputs": [
    {
     "data": {
      "text/plain": [
       "array([[250000.],\n",
       "       [400000.],\n",
       "       [240000.],\n",
       "       ...,\n",
       "       [166990.],\n",
       "       [412350.],\n",
       "       [231900.]])"
      ]
     },
     "execution_count": 34,
     "metadata": {},
     "output_type": "execute_result"
    }
   ],
   "source": [
    "min_max_rescale(Y_test.values, scaler)"
   ]
  },
  {
   "cell_type": "code",
   "execution_count": 35,
   "id": "bb116947-86ce-4289-9c6f-0560ce02fd8f",
   "metadata": {},
   "outputs": [
    {
     "data": {
      "text/plain": [
       "array([[232494.16],\n",
       "       [372414.28],\n",
       "       [235010.12],\n",
       "       ...,\n",
       "       [188442.95],\n",
       "       [515082.8 ],\n",
       "       [211262.1 ]], dtype=float32)"
      ]
     },
     "execution_count": 35,
     "metadata": {},
     "output_type": "execute_result"
    }
   ],
   "source": [
    "min_max_rescale(y_pred, scaler)"
   ]
  },
  {
   "cell_type": "code",
   "execution_count": 43,
   "id": "b305cde5-f2ce-414a-ac03-be4fc5fb1a4e",
   "metadata": {},
   "outputs": [
    {
     "name": "stdout",
     "output_type": "stream",
     "text": [
      "R²: 0.7389615416338329\n",
      "RMSE: 93403.10814039613\n",
      "MSE: 8724140610.286533\n",
      "MAE: 58887.57002055114\n"
     ]
    }
   ],
   "source": [
    "print_score(min_max_rescale(Y_test.values, scaler), \\\n",
    "            min_max_rescale(y_pred, scaler))"
   ]
  },
  {
   "cell_type": "code",
   "execution_count": null,
   "id": "c200a2fa-e28a-4d45-a2a4-70006eb753c0",
   "metadata": {},
   "outputs": [],
   "source": []
  }
 ],
 "metadata": {
  "kernelspec": {
   "display_name": "Python 3 (ipykernel)",
   "language": "python",
   "name": "python3"
  },
  "language_info": {
   "codemirror_mode": {
    "name": "ipython",
    "version": 3
   },
   "file_extension": ".py",
   "mimetype": "text/x-python",
   "name": "python",
   "nbconvert_exporter": "python",
   "pygments_lexer": "ipython3",
   "version": "3.8.2"
  }
 },
 "nbformat": 4,
 "nbformat_minor": 5
}
